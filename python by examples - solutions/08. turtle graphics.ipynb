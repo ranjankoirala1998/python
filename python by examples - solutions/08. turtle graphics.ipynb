{
 "cells": [
  {
   "cell_type": "markdown",
   "metadata": {},
   "source": [
    "<h3>Challenge 060</h3> \n",
    "<p>Draw a square.</p>"
   ]
  },
  {
   "cell_type": "code",
   "execution_count": null,
   "metadata": {},
   "outputs": [],
   "source": [
    "import turtle\n",
    "\n",
    "for i in range(4) :\n",
    "    turtle.forward(100)\n",
    "    turtle.left(90)\n",
    "\n",
    "turtle.hideturtle()\n",
    "turtle.exitonclick()"
   ]
  },
  {
   "cell_type": "markdown",
   "metadata": {},
   "source": [
    "<h3>Challenge 061</h3> \n",
    "<p>Draw a triangle. </p>"
   ]
  },
  {
   "cell_type": "code",
   "execution_count": null,
   "metadata": {},
   "outputs": [],
   "source": [
    "import turtle\n",
    "\n",
    "for i in range(3) :\n",
    "    turtle.forward(100)\n",
    "    turtle.left(120)\n",
    "\n",
    "turtle.hideturtle()\n",
    "turtle.exitonclick()"
   ]
  },
  {
   "cell_type": "markdown",
   "metadata": {},
   "source": [
    "<h3>Challenge 062</h3> \n",
    "<p>Draw a circle.</p>"
   ]
  },
  {
   "cell_type": "code",
   "execution_count": null,
   "metadata": {},
   "outputs": [],
   "source": [
    "import turtle\n",
    "\n",
    "for i in range(360) :\n",
    "    turtle.forward(1)\n",
    "    turtle.left(1)\n",
    "\n",
    "turtle.hideturtle()\n",
    "turtle.exitonclick()"
   ]
  },
  {
   "cell_type": "markdown",
   "metadata": {},
   "source": [
    "<h3>Challenge 063</h3> \n",
    "<p>Draw three squares in a row with a gap between each. Fill them using three different colours.</p>"
   ]
  },
  {
   "cell_type": "code",
   "execution_count": null,
   "metadata": {},
   "outputs": [],
   "source": [
    "import turtle\n",
    "\n",
    "color = [\"red\", \"blue\", \"green\"]\n",
    "\n",
    "turtle.penup()\n",
    "turtle.backward(200)\n",
    "turtle.pendown()\n",
    "\n",
    "for i in range(3) :\n",
    "    turtle.color('black', color[i])\n",
    "    turtle.begin_fill()\n",
    "    \n",
    "    for i in range(4) :\n",
    "        turtle.forward(100)\n",
    "        turtle.right(90)\n",
    "    \n",
    "    turtle.end_fill()\n",
    "\n",
    "    turtle.penup()\n",
    "    turtle.forward(200)\n",
    "    turtle.pendown()\n",
    "\n",
    "turtle.hideturtle()\n",
    "turtle.exitonclick()"
   ]
  },
  {
   "cell_type": "markdown",
   "metadata": {},
   "source": [
    "<h3>Challenge 064</h3> \n",
    "<p>Write the numbers one, two and three, starting at the bottom of the number one. </p>"
   ]
  },
  {
   "cell_type": "code",
   "execution_count": null,
   "metadata": {},
   "outputs": [],
   "source": [
    "import turtle\n",
    "\n",
    "# moving turtle pointer to slightly left side of the canvas\n",
    "turtle.penup()\n",
    "turtle.backward(100)\n",
    "turtle.pendown()\n",
    "\n",
    "# drawing 1\n",
    "turtle.left(90)\n",
    "turtle.forward(100)\n",
    "turtle.right(90)\n",
    "\n",
    "# creating a gap\n",
    "turtle.penup()\n",
    "turtle.forward(50)\n",
    "turtle.pendown()\n",
    "\n",
    "# drawing 2\n",
    "turtle.forward(100)\n",
    "turtle.right(90)\n",
    "turtle.forward(50)\n",
    "turtle.right(90)\n",
    "turtle.forward(100)\n",
    "turtle.left(90)\n",
    "turtle.forward(50)\n",
    "turtle.left(90)\n",
    "turtle.forward(100)\n",
    "\n",
    "# creating another gap\n",
    "turtle.penup()\n",
    "turtle.forward(50)\n",
    "turtle.pendown()\n",
    "\n",
    "# drawing 3\n",
    "turtle.forward(100)\n",
    "turtle.left(90)\n",
    "turtle.forward(50)\n",
    "turtle.left(90)\n",
    "turtle.forward(50)\n",
    "turtle.backward(50)\n",
    "turtle.right(90)\n",
    "turtle.forward(50)\n",
    "turtle.left(90)\n",
    "turtle.forward(100)\n",
    "\n",
    "turtle.hideturtle()\n",
    "turtle.exitonclick()"
   ]
  },
  {
   "cell_type": "markdown",
   "metadata": {},
   "source": [
    "<h3>Challenge 065</h3> \n",
    "<p>Draw a five-pointed star. </p>"
   ]
  },
  {
   "cell_type": "code",
   "execution_count": null,
   "metadata": {},
   "outputs": [],
   "source": [
    "import turtle\n",
    "\n",
    "for i in range(5) :\n",
    "    turtle.forward(200)\n",
    "    turtle.right(180-36)\n",
    "\n",
    "turtle.hideturtle()\n",
    "turtle.exitonclick()\n"
   ]
  },
  {
   "cell_type": "markdown",
   "metadata": {},
   "source": [
    "<h3>Challenge 066</h3> \n",
    "<p>Draw an octagon that uses a different colour (randomly selected from a list of six possible colours) for each line.</p>"
   ]
  },
  {
   "cell_type": "code",
   "execution_count": null,
   "metadata": {},
   "outputs": [],
   "source": [
    "import turtle\n",
    "import random\n",
    "\n",
    "turtle.pensize(3)\n",
    "\n",
    "colors = ['red', 'blue', 'green', 'yellow', 'purple', 'aqua']\n",
    "\n",
    "for i in range(8) :\n",
    "    turtle.color(random.choice(colors))\n",
    "    turtle.forward(100)\n",
    "    turtle.left(45)\n",
    "\n",
    "turtle.hideturtle()\n",
    "turtle.exitonclick()"
   ]
  },
  {
   "cell_type": "markdown",
   "metadata": {},
   "source": [
    "<h3>Challenge 067</h3> \n",
    "<p>Create an awesome pattern.</p>"
   ]
  },
  {
   "cell_type": "code",
   "execution_count": null,
   "metadata": {},
   "outputs": [],
   "source": [
    "import turtle\n",
    "\n",
    "for i in range(10) :\n",
    "    for i in range(8) :\n",
    "        turtle.forward(50)\n",
    "        turtle.left(45)\n",
    "\n",
    "    turtle.left(36)\n",
    "    \n",
    "turtle.hideturtle()\n",
    "turtle.exitonclick()"
   ]
  },
  {
   "cell_type": "markdown",
   "metadata": {},
   "source": [
    "<h3>Challenge 068</h3> \n",
    "<p>Draw a pattern that will change each time the program is run. Use the random function to pick the number of lines, the length of each line and the angle of each turn.</p>"
   ]
  },
  {
   "cell_type": "code",
   "execution_count": null,
   "metadata": {},
   "outputs": [],
   "source": [
    "import turtle\n",
    "import random\n",
    "\n",
    "n = random.randint(4,10)\n",
    "x = random.choice([30, 45, 60])\n",
    "length = random.randint(50,100)\n",
    "\n",
    "for i in range(int(360/x)) :\n",
    "    for j in range(n) :\n",
    "        turtle.forward(length)\n",
    "        turtle.left(360/n)\n",
    "    \n",
    "    turtle.left(x)\n",
    "\n",
    "turtle.hideturtle()\n",
    "turtle.exitonclick()"
   ]
  }
 ],
 "metadata": {
  "language_info": {
   "codemirror_mode": {
    "name": "ipython",
    "version": 3
   },
   "file_extension": ".py",
   "mimetype": "text/x-python",
   "name": "python",
   "nbconvert_exporter": "python",
   "pygments_lexer": "ipython3",
   "version": "3.7.7-final"
  },
  "orig_nbformat": 2,
  "kernelspec": {
   "name": "python37764bit01a1b0f807d94d33ba51b7c0bd27c49d",
   "display_name": "Python 3.7.7 64-bit"
  }
 },
 "nbformat": 4,
 "nbformat_minor": 2
}