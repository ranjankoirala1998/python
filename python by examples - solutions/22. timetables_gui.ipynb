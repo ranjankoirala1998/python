{
 "cells": [
  {
   "cell_type": "markdown",
   "metadata": {},
   "source": [
    "<h3>The Challenge</h3>\n",
    "<p>Create a program that will display the following screen: </p>\n",
    "<img src = \"files/c149a.png\"/>\n",
    "<p>When the user enters a number in the first box and clicks on the “View Times Table” button it should show the times table in the list area. For instance, if the user entered 99 they would see\n",
    "the list as shown in the example on the right.The “Clear” button should clear both boxes.</p>\n",
    "<img src = \"files/c149b.png\"/>\n",
    "<h3>Problems You Will Have To Overcome</h3>\n",
    "<p>You want to display the number sentence in the list rather than just the answers. The\n",
    "following line of code may help you do this:</br></br>\n",
    "num_list.insert(END, (i, \"x\", num, \"=\", answer))</br></br>\n",
    "Make sure it is as easy to use as possible by making sure the focus is in the correct location. </p>"
   ]
  },
  {
   "cell_type": "code",
   "execution_count": null,
   "metadata": {
    "tags": []
   },
   "outputs": [],
   "source": [
    "from tkinter import *\n",
    "\n",
    "def time_table() : \n",
    "    num = int(entry.get())\n",
    "    for i in range(1, 11) :\n",
    "        list_box.insert(END, \"{} * {} = {}\".format(num, i, num*i))\n",
    "    entry.delete(0, END)\n",
    "    entry.focus()\n",
    "\n",
    "\n",
    "def clear() :\n",
    "    list_box.delete(0, END)\n",
    "    entry.delete(0, END)\n",
    "    entry.focus()\n",
    "\n",
    "window = Tk()\n",
    "window.title(\"Times Table\")\n",
    "window.geometry(\"500x300\")\n",
    "\n",
    "label = Label(window, text= \"Enter a number : \")\n",
    "label.place(x= 25, y= 25, width= 100, height= 25)\n",
    "\n",
    "entry = Entry(window, text= 0)\n",
    "entry.place(x= 125, y= 25, width= 125, height= 25)\n",
    "entry[\"justify\"] = \"center\"\n",
    "entry.focus()\n",
    "\n",
    "list_box = Listbox(window)\n",
    "list_box.place(x= 125, y= 50, width= 125, height= 175)\n",
    "\n",
    "\n",
    "view = Button(window, text= \"View Times Table\", command= time_table)\n",
    "view.place(x= 255, y= 25, width= 100, height= 25)\n",
    "\n",
    "clear = Button(window, text= \"Clear\", command= clear)\n",
    "clear.place(x= 360, y= 25, width= 50, height= 25)\n",
    "\n",
    "window.mainloop()"
   ]
  }
 ],
 "metadata": {
  "language_info": {
   "codemirror_mode": {
    "name": "ipython",
    "version": 3
   },
   "file_extension": ".py",
   "mimetype": "text/x-python",
   "name": "python",
   "nbconvert_exporter": "python",
   "pygments_lexer": "ipython3",
   "version": "3.7.7-final"
  },
  "orig_nbformat": 2,
  "kernelspec": {
   "name": "python37764bit01a1b0f807d94d33ba51b7c0bd27c49d",
   "display_name": "Python 3.7.7 64-bit"
  }
 },
 "nbformat": 4,
 "nbformat_minor": 2
}