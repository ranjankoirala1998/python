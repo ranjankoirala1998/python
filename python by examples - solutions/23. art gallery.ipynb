{
 "cells": [
  {
   "cell_type": "markdown",
   "metadata": {},
   "source": [
    "<h3>The Challenge</h3>\n",
    "<p>A small art gallery is selling works from different artists and wants to keep track of the\n",
    "paintings using an SQL database. You need to create a user-friendly system to keep track of\n",
    "the art. This should include using a GUI. Below is the current data that needs to be stored\n",
    "in a database. </p>\n",
    "<img src = \"files/c150.png\"/>\n",
    "<h3>Problems You Will Have To Overcome</h3>\n",
    "<p>The art gallery must be able to add new artists and pieces of art.</br>\n",
    "Once a piece of art has been sold, the data about that art should be removed from the main\n",
    "SQL database and stored in a separate text file.</br>\n",
    "Users should be able to search by artist, medium or price.</p>"
   ]
  },
  {
   "cell_type": "code",
   "execution_count": null,
   "metadata": {},
   "outputs": [],
   "source": []
  }
 ],
 "metadata": {
  "language_info": {
   "codemirror_mode": {
    "name": "ipython",
    "version": 3
   },
   "file_extension": ".py",
   "mimetype": "text/x-python",
   "name": "python",
   "nbconvert_exporter": "python",
   "pygments_lexer": "ipython3",
   "version": 3
  },
  "orig_nbformat": 2
 },
 "nbformat": 4,
 "nbformat_minor": 2
}