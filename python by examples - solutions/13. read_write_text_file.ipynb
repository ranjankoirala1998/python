{
 "cells": [
  {
   "cell_type": "markdown",
   "metadata": {},
   "source": [
    "<h3>Challenge 105</h3>\n",
    "<p>Write a new file called “Numbers.txt”. Add five numbers to the document which are stored on the same line and only separated by a comma. Once you have run the program, look in the location where your program is stored and you should see that the file has been created. The easiest way to view the contents of the new text file on a Windows system is to read it using Notepad.</p>"
   ]
  },
  {
   "cell_type": "code",
   "execution_count": null,
   "metadata": {},
   "outputs": [],
   "source": [
    "file = open('files/Numbers.txt', 'w')\n",
    "\n",
    "file.write('2, ')\n",
    "file.write('3, ')\n",
    "file.write('5, ')\n",
    "file.write('7, ')\n",
    "file.write('11 ')\n",
    "\n",
    "file.close()"
   ]
  },
  {
   "cell_type": "markdown",
   "metadata": {},
   "source": [
    "<h3>Challenge 106</h3>\n",
    "<p>Create a new file called “Names.txt”. Add five names to the document, which are stored on separate lines. Once you have run the program, look in the location where your program is stored and check that the file has been created properly.</p>"
   ]
  },
  {
   "cell_type": "code",
   "execution_count": null,
   "metadata": {},
   "outputs": [],
   "source": [
    "file = open('files/Names.txt', 'w')\n",
    "\n",
    "file.write('Chandler\\n')\n",
    "file.write('Monica\\n')\n",
    "file.write('Pheobe\\n')\n",
    "file.write('Joey\\n')\n",
    "file.write('Ross\\n')\n",
    "\n",
    "file.close()"
   ]
  },
  {
   "cell_type": "markdown",
   "metadata": {},
   "source": [
    "<h3>Challenge 107</h3>\n",
    "<p>Open the Names.txt file and display the data in Python.</p>"
   ]
  },
  {
   "cell_type": "code",
   "execution_count": null,
   "metadata": {},
   "outputs": [],
   "source": [
    "file = open('files/Names.txt', 'r')\n",
    "\n",
    "print(file.read())\n",
    "\n",
    "file.close()"
   ]
  },
  {
   "cell_type": "markdown",
   "metadata": {},
   "source": [
    "<h3>Challenge 108</h3>\n",
    "<p>Open the Names.txt file. Ask the user to input a new name. Add this to the end of the file and display the entire file.</p>"
   ]
  },
  {
   "cell_type": "code",
   "execution_count": null,
   "metadata": {},
   "outputs": [],
   "source": [
    "file = open('files/Names.txt', 'a')\n",
    "\n",
    "name = input(\"Enter a name : \")\n",
    "file.write(name + '\\n')\n",
    "\n",
    "file.close()\n",
    "\n",
    "\n",
    "file = open('files/Names.txt', 'r')\n",
    "\n",
    "print(file.read())\n",
    "\n",
    "file.close()"
   ]
  },
  {
   "cell_type": "markdown",
   "metadata": {},
   "source": [
    "<h3>Challenge 109</h3>\n",
    "<p>Display the following menu to the user:</br>1) Create a new file</br>2) Display the file</br>3) Add a new item to the file</br></br>Make a selection 1, 2 or 3 : </p>\n",
    "<p>Ask the user to enter 1, 2 or 3. If they select anything other than 1, 2 or 3 it should display a suitable error message.</br></br> \n",
    " \n",
    "If they select 1, ask the user to enter a school subject and save it to a new file called “Subject.txt”. It should overwrite any existing file with a new file.</br></br>   \n",
    " \n",
    "If they select 2, display the contents of the “Subject.txt” file.</br></br> \n",
    " \n",
    "If they select 3, ask the user to enter a new subject and save it to the file and then display the entire contents of the file.</br></br> \n",
    " \n",
    "Run the program several times to test the options</p>"
   ]
  },
  {
   "cell_type": "code",
   "execution_count": null,
   "metadata": {},
   "outputs": [],
   "source": [
    "print(\"\"\"\n",
    "1) Create a new file\n",
    "2) Display the file\n",
    "3) Add a new item to the file\n",
    "\"\"\")\n",
    "\n",
    "choice = int(input(\"Make a selection 1, 2 or 3 : \"))\n",
    "\n",
    "if choice == 1 : \n",
    "    file = open('files/Subject.txt', 'w')\n",
    "    \n",
    "    name = input(\"Enter a Subject : \")\n",
    "    file.write(name + '\\n')\n",
    "    \n",
    "    file.close()\n",
    "\n",
    "elif choice == 2 :\n",
    "    file = open('files/Subject.txt', 'r')\n",
    "    \n",
    "    print(file.read())\n",
    "    \n",
    "    file.close()\n",
    "\n",
    "elif choice == 3 :\n",
    "    file = open('files/Subject.txt', 'a')\n",
    "\n",
    "    subject = input(\"Enter a new subject : \")\n",
    "    file.write(subject + '\\n')\n",
    "    print(\"{} has been added to the file.\\n\".format(subject))\n",
    "\n",
    "    file.close()\n",
    "\n",
    "\n",
    "    file = open('files/Subject.txt', 'r')\n",
    "    \n",
    "    print(file.read())\n",
    "    \n",
    "    file.close()\n",
    "\n",
    "else : \n",
    "    print(\"Invalid Option!!\")"
   ]
  },
  {
   "cell_type": "markdown",
   "metadata": {},
   "source": [
    "<h3>Challenge 110</h3>\n",
    "<p>Using the Names.txt file you created earlier, display the list of names in Python. Ask the user to type in one of the names and then save all the names except the one they entered into a new file called Names2.txt. </p>"
   ]
  },
  {
   "cell_type": "code",
   "execution_count": null,
   "metadata": {},
   "outputs": [],
   "source": [
    "file = open(\"files/Names.txt\", \"r\")\n",
    "file2 = open(\"files/Names2.txt\", \"w\")\n",
    "\n",
    "print(file.read())\n",
    "\n",
    "person = input(\"Enter any name from the file : \")\n",
    "\n",
    "for row in file : \n",
    "    if row != (person + '\\n') : \n",
    "        file2.write(row)\n",
    "\n",
    "file.close()\n",
    "file2.close()"
   ]
  }
 ],
 "metadata": {
  "language_info": {
   "codemirror_mode": {
    "name": "ipython",
    "version": 3
   },
   "file_extension": ".py",
   "mimetype": "text/x-python",
   "name": "python",
   "nbconvert_exporter": "python",
   "pygments_lexer": "ipython3",
   "version": "3.7.7-final"
  },
  "orig_nbformat": 2,
  "kernelspec": {
   "name": "python37764bit01a1b0f807d94d33ba51b7c0bd27c49d",
   "display_name": "Python 3.7.7 64-bit"
  }
 },
 "nbformat": 4,
 "nbformat_minor": 2
}