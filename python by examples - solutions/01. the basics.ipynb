{
 "cells": [
  {
   "cell_type": "markdown",
   "metadata": {},
   "source": [
    "<h3>Challenge 001</h3>\n",
    "<p>Ask for the user’s first name and display the output message : </br> Hello [First Name]</p>"
   ]
  },
  {
   "cell_type": "code",
   "execution_count": null,
   "metadata": {},
   "outputs": [],
   "source": [
    "firstname = input(\"Enter your name : \")\n",
    "\n",
    "print(\"Hello\", firstname)"
   ]
  },
  {
   "cell_type": "markdown",
   "metadata": {},
   "source": [
    "<h3>Challenge 002</h3>\n",
    "<p>Ask for the user’s first name and then ask for their surname and display the output message: </br> Hello [First Name] [Surname]</p>"
   ]
  },
  {
   "cell_type": "code",
   "execution_count": null,
   "metadata": {},
   "outputs": [],
   "source": [
    "firstname = input(\"Enter your name : \")\n",
    "lastname = input(\"Enter your surname : \")\n",
    "\n",
    "print(\"Hello\", firstname, lastname)"
   ]
  },
  {
   "cell_type": "markdown",
   "metadata": {},
   "source": [
    "<h3>Challenge 003</h3>\n",
    "<p>Write code that will display the joke “What do you call a bear with no teeth?” and on the next line display the answer “A gummy bear!”. </br>Try to create it using only one line of code.</p>"
   ]
  },
  {
   "cell_type": "code",
   "execution_count": null,
   "metadata": {},
   "outputs": [],
   "source": [
    "print(\"What do you call a bear with no teeth?\\nA gummy bear!\")"
   ]
  },
  {
   "cell_type": "markdown",
   "metadata": {},
   "source": [
    "<h3>Challenge 004</h3>\n",
    "<p>Ask the user to enter two numbers. Add them together and display the answer as : </br> The total is [answer]. </p>"
   ]
  },
  {
   "cell_type": "code",
   "execution_count": null,
   "metadata": {},
   "outputs": [],
   "source": [
    "num1 = int(input(\"Enter the first number : \"))\n",
    "num2 = int(input(\"Enter the second number : \"))\n",
    "\n",
    "total = num1 + num2\n",
    "\n",
    "print(\"The total is {}.\".format(total))"
   ]
  },
  {
   "cell_type": "markdown",
   "metadata": {},
   "source": [
    "<h3>Challenge 005</h3>\n",
    "<p>Ask the user to enter three numbers. Add together the first two numbers and then multiply this total by the third. Display the answer as : </br>The answer is [answer].</p>"
   ]
  },
  {
   "cell_type": "code",
   "execution_count": null,
   "metadata": {},
   "outputs": [],
   "source": [
    "num1 = int(input(\"Enter the first number : \"))\n",
    "num2 = int(input(\"Enter the second number : \"))\n",
    "num3 = int(input(\"Enter the third number : \"))\n",
    "\n",
    "answer = (num1 + num2) * num3\n",
    "\n",
    "print(\"The answer is {}.\".format(answer))"
   ]
  },
  {
   "cell_type": "markdown",
   "metadata": {},
   "source": [
    "<h3>Challenge 006</h3>\n",
    "<p>Ask how many slices of pizza the user started with and ask how many slices they have eaten. Work out how many slices they have left and display the answer in a userfriendly format.</p>"
   ]
  },
  {
   "cell_type": "code",
   "execution_count": null,
   "metadata": {},
   "outputs": [],
   "source": [
    "initial_slices = int(input(\"How many slices of pizza did you start with? : \"))\n",
    "slices_eaten = int(input(\"How many slices have you eaten? : \"))\n",
    "\n",
    "remaining_slices = initial_slices - slices_eaten\n",
    "\n",
    "print(\"You have {} slice(s) of pizza left.\".format(remaining_slices))"
   ]
  },
  {
   "cell_type": "markdown",
   "metadata": {},
   "source": [
    "<h3>Challenge 007</h3>\n",
    "<p>Ask the user for their name and their age. Add 1 to their age and display the output :</br> [Name], next birthday you will be [new age]. </p>"
   ]
  },
  {
   "cell_type": "code",
   "execution_count": null,
   "metadata": {},
   "outputs": [],
   "source": [
    "name = input(\"What's your name? : \")\n",
    "age = int(input(\"What's your age? : \"))\n",
    "\n",
    "new_age = age + 1\n",
    "\n",
    "print(\"{}, next birthday you will be {}.\".format(name, new_age))"
   ]
  },
  {
   "cell_type": "markdown",
   "metadata": {},
   "source": [
    "<h3>Challenge 008</h3>\n",
    "<p>Ask for the total price of the bill, then ask how many diners there are. Divide the total bill by the number of diners and show how much each person must pay. </p>"
   ]
  },
  {
   "cell_type": "code",
   "execution_count": null,
   "metadata": {},
   "outputs": [],
   "source": [
    "bill_amount = float(input(\"Enter the total bill amount : \"))\n",
    "no_of_diners = int(input(\"Enter the number of diners : \"))\n",
    "\n",
    "per_person_amount = bill_amount/no_of_diners\n",
    "\n",
    "print(\"Each person must pay ${}.\".format(round(per_person_amount, 2)))"
   ]
  },
  {
   "cell_type": "markdown",
   "metadata": {},
   "source": [
    "<h3>Challenge 009</h3>\n",
    "<p>Write a program that will ask for a number of days and then will show how many hours, minutes and seconds are in that number of days.</p>"
   ]
  },
  {
   "cell_type": "code",
   "execution_count": null,
   "metadata": {},
   "outputs": [],
   "source": [
    "days = int(input(\"Enter a number of days : \"))\n",
    "\n",
    "hours = days * 24\n",
    "minutes = hours * 60\n",
    "seconds = minutes * 60\n",
    "\n",
    "print(\"\"\"\n",
    "In {} day(s),\n",
    "        - there are {} hours.\n",
    "        - there are {} minutes.\n",
    "        - thers are {} seconds.\n",
    "    \"\"\".format(days, hours, minutes, seconds))"
   ]
  },
  {
   "cell_type": "markdown",
   "metadata": {},
   "source": [
    "<h3>Challenge 0010</h3>\n",
    "<p>There are 2.204 pounds in a kilogram. Ask the user to enter a weight in kilograms and convert it to pounds.</p>"
   ]
  },
  {
   "cell_type": "code",
   "execution_count": null,
   "metadata": {},
   "outputs": [],
   "source": [
    "kgs = float(input(\"Enter a weight in kilograms : \"))\n",
    "\n",
    "lbs = kgs * 2.204\n",
    "\n",
    "print(\"In {} kilograms, there are {} pounds.\".format(kgs, round(lbs, 3)))\n"
   ]
  },
  {
   "cell_type": "markdown",
   "metadata": {},
   "source": [
    "<h3>Challenge 011</h3>\n",
    "<p>Task the user to enter a number over 100 and then enter a number under 10 and tell them how many times the smaller number goes into the larger number in a user-friendly format. </p>"
   ]
  },
  {
   "cell_type": "code",
   "execution_count": null,
   "metadata": {},
   "outputs": [],
   "source": [
    "over = int(input(\"Enter a number over 100 : \"))\n",
    "under = int(input(\"Enter a number under 10 : \"))\n",
    "\n",
    "times = over // under\n",
    "\n",
    "print(\"{} goes into {} for {} times.\".format(under, over, times))"
   ]
  }
 ],
 "metadata": {
  "language_info": {
   "codemirror_mode": {
    "name": "ipython",
    "version": 3
   },
   "file_extension": ".py",
   "mimetype": "text/x-python",
   "name": "python",
   "nbconvert_exporter": "python",
   "pygments_lexer": "ipython3",
   "version": "3.7.7-final"
  },
  "orig_nbformat": 2,
  "kernelspec": {
   "name": "python37764bit01a1b0f807d94d33ba51b7c0bd27c49d",
   "display_name": "Python 3.7.7 64-bit"
  }
 },
 "nbformat": 4,
 "nbformat_minor": 2
}