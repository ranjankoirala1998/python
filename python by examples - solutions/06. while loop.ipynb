{
 "cells": [
  {
   "cell_type": "markdown",
   "metadata": {},
   "source": [
    "<h3>Challenge 045</h3>\n",
    "<p>Set the total to 0 to start with. While the total is 50 or less, ask the user to input a number. Add that number to the total and print the message “The total is… [total]”. Stop the loop when the total is over 50.</p>"
   ]
  },
  {
   "cell_type": "code",
   "execution_count": null,
   "metadata": {},
   "outputs": [],
   "source": [
    "total = 0\n",
    "\n",
    "flag = True\n",
    "\n",
    "while flag : \n",
    "    num = int(input(\"Enter a number  : \"))\n",
    "    total += num\n",
    "    if total > 50 :\n",
    "        flag = False\n",
    "    \n",
    "print(\"The total is {}.\".format(total))"
   ]
  },
  {
   "cell_type": "markdown",
   "metadata": {},
   "source": [
    "<h3>Challenge 046</h3>\n",
    "<p>Ask the user to enter a number. Keep asking until they enter a value over 5 and then display the message “The last number you entered was a [number]” and stop the program.</p>"
   ]
  },
  {
   "cell_type": "code",
   "execution_count": null,
   "metadata": {},
   "outputs": [],
   "source": [
    "flag = True\n",
    "\n",
    "while flag :\n",
    "    num = int(input(\"Enter a number (over 5) : \"))\n",
    "    print(\"The last number you entered was {}.\".format(num))\n",
    "\n",
    "    if num > 5:\n",
    "        flag = False\n",
    "\n",
    "print(\"Thank You!\")"
   ]
  },
  {
   "cell_type": "markdown",
   "metadata": {},
   "source": [
    "<h3>Challenge 045</h3>\n",
    "<p>Ask the user to enter a number and then enter another number. Add these two numbers together and then ask if they want to add another number. If they enter “y\", ask them to enter another number and keep adding numbers until they do not answer “y”. Once the loop has stopped, display the total.</p>"
   ]
  },
  {
   "cell_type": "code",
   "execution_count": null,
   "metadata": {},
   "outputs": [],
   "source": [
    "num1 = int(input(\"Enter a number : \"))\n",
    "num2 = int(input(\"Enter another number : \"))\n",
    "total = num1 + num2\n",
    "\n",
    "flag = True\n",
    "\n",
    "while flag :\n",
    "    choice = input(\"Do you want to add another number? y/n :\")\n",
    "\n",
    "    if choice == 'y' :\n",
    "        num = int(input(\"Enter the number : \"))\n",
    "        total += num\n",
    "\n",
    "    else :\n",
    "        flag = False\n",
    "         \n",
    "print(\"The total is {}.\".format(total))"
   ]
  },
  {
   "cell_type": "markdown",
   "metadata": {},
   "source": [
    "<h3>Challenge 045</h3>\n",
    "<p>Ask for the name of somebody the user wants to invite to a party. After this, display the message “[name] has now been invited” and add 1 to the count. Then ask if they want to invite somebody else. Keep repeating this until they no longer want to invite anyone else to the party and then display how many people they have coming to the party.</p>"
   ]
  },
  {
   "cell_type": "code",
   "execution_count": null,
   "metadata": {},
   "outputs": [],
   "source": [
    "count = 0\n",
    "flag = True\n",
    "\n",
    "while flag :\n",
    "    name = input(\"Who do you want to invite to the party? Enter Name : \")\n",
    "    count += 1\n",
    "    print(\"{} has now been invited.\".format(name))\n",
    "\n",
    "    choice = input(\"Do you want to invite anyone else? y/n :\")\n",
    "    flag = (choice == 'y') # a boolean value is assigned to the variable 'flag' \n",
    "\n",
    "print(\"\\n{} people were invited to the party.\" .format(count))"
   ]
  },
  {
   "cell_type": "markdown",
   "metadata": {},
   "source": [
    "<h3>Challenge 045</h3>\n",
    "<p>Create a variable called compnum and set the value to 50. Ask the user to enter a number. While their guess is not the same as the compnum value, tell them if their guess is too low or too high and ask them to have another guess. If they enter the same value as compnum, display the message “Well done, you took [count] attempts”.</p>"
   ]
  },
  {
   "cell_type": "code",
   "execution_count": null,
   "metadata": {},
   "outputs": [],
   "source": [
    "compnum = 50\n",
    "count = 0\n",
    "\n",
    "guess = int(input(\"Enter a guess : \"))\n",
    "\n",
    "flag = True\n",
    "\n",
    "while flag :\n",
    "    if guess == compnum :\n",
    "        count += 1\n",
    "        flag = False\n",
    "    \n",
    "    else :\n",
    "        if guess > 59 :\n",
    "            print(\"{} is Too High!\".format(guess))\n",
    "\n",
    "        elif guess > 40 and guess < 60 :\n",
    "            print(\"{} is Pretty Close!\".format(guess))\n",
    "\n",
    "        else :\n",
    "            print(\"{} is Too Low!\".format(guess))\n",
    "\n",
    "        guess = int(input(\"Try Again? : \")) \n",
    "        count += 1\n",
    "\n",
    "print(\"Well Done. You took {} guess(es).\".format(count))"
   ]
  },
  {
   "cell_type": "markdown",
   "metadata": {},
   "source": [
    "<h3>Challenge 050</h3>\n",
    "<p>Ask the user to enter a number between 10 and 20. If they enter a value under 10, display the message “Too low” and ask them to try again. If they enter a value above 20, display the message “Too high” and ask them to try again. Keep repeating this until they enter a value that is between 10 and 20 and then display the message “Thank you”.</p>"
   ]
  },
  {
   "cell_type": "code",
   "execution_count": null,
   "metadata": {},
   "outputs": [],
   "source": [
    "num = int(input(\"Enter a number between 10 and 20 (inclusive) : \"))\n",
    "\n",
    "flag = True\n",
    "\n",
    "while flag :\n",
    "    if num > 9 and num < 21 :\n",
    "        print(\"Thank You!\")\n",
    "        flag = False\n",
    "    \n",
    "    else :\n",
    "        if num < 10 :\n",
    "            print(\"Too Low!\")\n",
    "            \n",
    "        else :\n",
    "            print(\"Too High!\")\n",
    "\n",
    "        num = int(input(\"Try Again? : \")) "
   ]
  },
  {
   "cell_type": "markdown",
   "metadata": {},
   "source": [
    "<h3>Challenge 051</h3>\n",
    "<p>Using the song “10 green bottles”, display the lines “There are [num] green bottles hanging on the wall, [num] green bottles hanging on the wall, and if 1 green bottle should accidentally fall”. Then ask the question “how many green bottles will be hanging on the wall?” If the user answers correctly, display the message “There will be [num] green bottles hanging on the wall”. If they answer incorrectly, display the message “No, try again” until they get it right. When the number of green bottles gets down to 0, display the message “There are no more green bottles hanging on the wall”.</p>"
   ]
  },
  {
   "cell_type": "code",
   "execution_count": null,
   "metadata": {},
   "outputs": [],
   "source": [
    "print(\"10 GREEN BOTTLES\")\n",
    "\n",
    "total = 10\n",
    "\n",
    "while total > 0 :\n",
    "    print(\"\\nThere are {} green bottles hanging on the wall, {} green bottles hanging on the wall, and if 1 green bottle should accidently fall...\".format(total, total))\n",
    "    guess = int(input(\"How many green bottles will be hanging on the wall?\"))\n",
    "\n",
    "    if guess == total - 1 : \n",
    "        total = guess\n",
    "\n",
    "    else :\n",
    "        while guess != total - 1 : \n",
    "            guess = int(input(\"No. Try Again!!\")) \n",
    "        total = guess\n",
    "    \n",
    "    if total > 0 :\n",
    "            print(\"There will be {} green bottles hanging on the wall.\".format(total))\n",
    "\n",
    "print(\"There are no more green bottles hanging on the wall\")"
   ]
  }
 ],
 "metadata": {
  "language_info": {
   "codemirror_mode": {
    "name": "ipython",
    "version": 3
   },
   "file_extension": ".py",
   "mimetype": "text/x-python",
   "name": "python",
   "nbconvert_exporter": "python",
   "pygments_lexer": "ipython3",
   "version": "3.7.7-final"
  },
  "orig_nbformat": 2,
  "kernelspec": {
   "name": "python37764bit01a1b0f807d94d33ba51b7c0bd27c49d",
   "display_name": "Python 3.7.7 64-bit"
  }
 },
 "nbformat": 4,
 "nbformat_minor": 2
}