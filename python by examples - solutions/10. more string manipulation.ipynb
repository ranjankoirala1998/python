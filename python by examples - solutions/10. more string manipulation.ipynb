{
 "cells": [
  {
   "cell_type": "markdown",
   "metadata": {},
   "source": [
    "<h3>Challenge 080</h3>\n",
    "<p>Ask the user to enter their first name and then display the length of their first name. Then ask for their surname and display the length of their surname. Join their first name and surname together with a space between and display the result. Finally, display the length of their full name (including the space).</p>"
   ]
  },
  {
   "cell_type": "code",
   "execution_count": null,
   "metadata": {},
   "outputs": [],
   "source": [
    "firstname = input(\"Enter your first name : \")\n",
    "print(\"Your first name has {} letters.\".format(len(firstname)))\n",
    "\n",
    "lastname = input(\"Enter your surname : \")\n",
    "print(\"Your surname has {} letters.\".format(len(lastname)))\n",
    "\n",
    "fullname = firstname + ' ' + lastname\n",
    "print(\"Your fullname has {} letters.\".format(len(fullname))) # this includes the space between your firstname and your surname"
   ]
  },
  {
   "cell_type": "markdown",
   "metadata": {},
   "source": [
    "<h3>Challenge 081</h3>\n",
    "<p>Ask the user to type in their favourite school subject. Display it with “-” after each letter, e.g. S-p-a-n-i-s-h-.</p>"
   ]
  },
  {
   "cell_type": "code",
   "execution_count": null,
   "metadata": {},
   "outputs": [],
   "source": [
    "subject = input(\"Enter your favourite subject : \")\n",
    "\n",
    "for letter in subject :\n",
    "    print(letter, end='-')"
   ]
  },
  {
   "cell_type": "markdown",
   "metadata": {},
   "source": [
    "<h3>Challenge 082</h3>\n",
    "<p>Show the user a line of text from your favourite poem and ask for a starting and ending point. Display the characters between those two points. </p>"
   ]
  },
  {
   "cell_type": "code",
   "execution_count": null,
   "metadata": {},
   "outputs": [],
   "source": [
    "text = \"If the world was ending you would come over, right?\"\n",
    "\n",
    "start = int(input(\"Enter the start index : \"))\n",
    "end = int(input(\"Enter the end index : \"))\n",
    "\n",
    "print(text[start-1:end])"
   ]
  },
  {
   "cell_type": "markdown",
   "metadata": {},
   "source": [
    "<h3>Challenge 083</h3>\n",
    "<p>Ask the user to type in a word in upper case. If they type it in lower case, ask them to try again. Keep repeating this until they type in a message all in uppercase.</p>"
   ]
  },
  {
   "cell_type": "code",
   "execution_count": null,
   "metadata": {},
   "outputs": [],
   "source": [
    "word_upper = input(\"Enter a word (in uppercase letters) : \")\n",
    "\n",
    "while not word_upper.isupper() :\n",
    "    word_upper = input(\"Try Again?\")\n",
    "\n",
    "print(\"Thank You! You entered {}.\".format(word_upper))"
   ]
  },
  {
   "cell_type": "markdown",
   "metadata": {},
   "source": [
    "<h3>Challenge 084</h3>\n",
    "<p>Ask the user to type in their postcode. Display the first two letters in uppercase.</p>"
   ]
  },
  {
   "cell_type": "code",
   "execution_count": null,
   "metadata": {},
   "outputs": [],
   "source": [
    "postcode = input(\"Enter your postcode : \")\n",
    "print(postcode[0:2].upper())"
   ]
  },
  {
   "cell_type": "markdown",
   "metadata": {},
   "source": [
    "<h3>Challenge 085</h3>\n",
    "<p>Ask the user to type in their name and then tell them how many vowels are in their name.</p>"
   ]
  },
  {
   "cell_type": "code",
   "execution_count": null,
   "metadata": {},
   "outputs": [],
   "source": [
    "count = 0\n",
    "\n",
    "name = input(\"Enter your name : \")\n",
    "\n",
    "for letter in name.lower() :\n",
    "    if letter in 'aeiou' :\n",
    "        count += 1 \n",
    "\n",
    "print(\"There are {} vowels in your name.\".format(count))"
   ]
  },
  {
   "cell_type": "markdown",
   "metadata": {},
   "source": [
    "<h3>Challenge 086</h3>\n",
    "<p>Ask the user to enter a new password. Ask them to enter it again. If the two passwords match, display “Thank you”. If the letters are correct but in the wrong case, display the message “They must be in the same case”, otherwise display the message “Incorrect”.</p>"
   ]
  },
  {
   "cell_type": "code",
   "execution_count": null,
   "metadata": {},
   "outputs": [],
   "source": [
    "password = input(\"Enter a password : \")\n",
    "new_password = input(\"Enter the password again : \")\n",
    "\n",
    "if password == new_password :\n",
    "    print(\"Thank You!\")\n",
    "\n",
    "elif password.lower() == new_password.lower() :\n",
    "    print(\"They must be in the same case.\")\n",
    "\n",
    "else :\n",
    "    print(\"Incorrect!\")"
   ]
  },
  {
   "cell_type": "markdown",
   "metadata": {},
   "source": [
    "<h3>Challenge 087</h3>\n",
    "<p>Ask the user to type in a word and then display it backwards on separate lines. For instance, if they type in “Hello” it should display as shown below:</br></br>Enter a word : Hello</br></br>o</br>l</br>l</br>e</br>H</p>"
   ]
  },
  {
   "cell_type": "code",
   "execution_count": null,
   "metadata": {},
   "outputs": [],
   "source": [
    "word = input(\"Enter a word : \")\n",
    "\n",
    "for letter in word[-1 : :-1] :\n",
    "    print(letter)"
   ]
  }
 ],
 "metadata": {
  "language_info": {
   "codemirror_mode": {
    "name": "ipython",
    "version": 3
   },
   "file_extension": ".py",
   "mimetype": "text/x-python",
   "name": "python",
   "nbconvert_exporter": "python",
   "pygments_lexer": "ipython3",
   "version": "3.7.7-final"
  },
  "orig_nbformat": 2,
  "kernelspec": {
   "name": "python37764bit01a1b0f807d94d33ba51b7c0bd27c49d",
   "display_name": "Python 3.7.7 64-bit"
  }
 },
 "nbformat": 4,
 "nbformat_minor": 2
}