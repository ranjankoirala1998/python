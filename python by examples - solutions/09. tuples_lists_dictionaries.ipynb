{
 "cells": [
  {
   "cell_type": "markdown",
   "metadata": {},
   "source": [
    "<h3>Challenge 069</h3>\n",
    "<p>Create a tuple containing the names of five countries and display the whole tuple. Ask the user to enter one of the countries that have been shown to them and then display the index number (i.e. position in the list) of that item in the tuple.</p>"
   ]
  },
  {
   "cell_type": "code",
   "execution_count": null,
   "metadata": {},
   "outputs": [],
   "source": [
    "countries = ('Australia', 'India', 'Nepal', 'Norway', 'United States')\n",
    "\n",
    "print(\"Countries : {}\".format(countries))\n",
    "\n",
    "country = input(\"Enter the name of any country from the list : \")\n",
    "print(\"{} is in the position {} in the above list.\".format(country, countries.index(country)+1))"
   ]
  },
  {
   "cell_type": "markdown",
   "metadata": {},
   "source": [
    "<h3>Challenge 070</h3>\n",
    "<p>Add to program 069 to ask the user to enter a number and display the country in that position.</p>"
   ]
  },
  {
   "cell_type": "code",
   "execution_count": null,
   "metadata": {},
   "outputs": [],
   "source": [
    "countries = ('Australia', 'India', 'Nepal', 'Norway', 'United States')\n",
    "\n",
    "index = int(input(\"Enter an index (1-5) : \"))\n",
    "print(\"The country in the position {} is {}.\".format(index, countries[index-1]))"
   ]
  },
  {
   "cell_type": "markdown",
   "metadata": {},
   "source": [
    "<h3>Challenge 071</h3>\n",
    "<p>Create a list of two sports. Ask the user what their favourite sport is and add this to the end of the list. Sort the list and display it.</p>"
   ]
  },
  {
   "cell_type": "code",
   "execution_count": null,
   "metadata": {},
   "outputs": [],
   "source": [
    "sports = ['soccer', 'tennis']\n",
    "\n",
    "fav_sport = input(\"Enter your favourite sport : \")\n",
    "sports.append(fav_sport)\n",
    "\n",
    "sports.sort() # changes the original list\n",
    "print(sports)"
   ]
  },
  {
   "cell_type": "markdown",
   "metadata": {},
   "source": [
    "<h3>Challenge 072</h3>\n",
    "<p>Create a list of six school subjects. Ask the user which of these subjects they don’t like. Delete the subject they have chosen from the list before you display the list again.</p>"
   ]
  },
  {
   "cell_type": "code",
   "execution_count": null,
   "metadata": {},
   "outputs": [],
   "source": [
    "subjects = ['Maths', 'Physics', 'Biology', 'Computer Science', 'Chemistry', 'English']\n",
    "print(\"Subject List :\",subjects)\n",
    "\n",
    "dislike = input(\"Enter the subject you don't like from the above list : \")\n",
    "subjects.remove(dislike)\n",
    "print(\"\\n{} was removed from the list.\\nUpdated Subject List : {}\".format(dislike, subjects))"
   ]
  },
  {
   "cell_type": "markdown",
   "metadata": {},
   "source": [
    "<h3>Challenge 073</h3>\n",
    "<p>Ask the user to enter four of their favourite foods and store them in a dictionary so that they are indexed with numbers starting from 1. Display the dictionary in full, showing the index number and the item. Ask them which they want to get rid of and remove it from the list. Sort the remaining data and display the dictionary.</p>"
   ]
  },
  {
   "cell_type": "code",
   "execution_count": null,
   "metadata": {},
   "outputs": [],
   "source": [
    "food_dict = {}\n",
    "\n",
    "for i in range(4) : \n",
    "    food = input(\"Enter your favourite food : \")\n",
    "    food_dict[i+1] = food\n",
    "\n",
    "print(\"Food Dictionary : \", food_dict)\n",
    "\n",
    "choice = int(input(\"Which food do you want to remove from this dictionary? Enter index (1-4) : \"))\n",
    "print(\"You removed {}.\".format(food_dict[choice]))\n",
    "del food_dict[choice]\n",
    "print(\"Updated Food Dictionary : {}\".format(food_dict))"
   ]
  },
  {
   "cell_type": "markdown",
   "metadata": {},
   "source": [
    "<h3>Challenge 074</h3>\n",
    "<p>Enter a list of ten colours. Ask the user for a starting number between 0 and 4 and an end number between 5 and 9. Display the list for those colours between the start and end numbers the user input.</p>"
   ]
  },
  {
   "cell_type": "code",
   "execution_count": null,
   "metadata": {},
   "outputs": [],
   "source": [
    "colors = ['red', 'blue', 'green', 'black', 'white', 'yellow', 'purple', 'brown', 'aqua', 'pink']\n",
    "\n",
    "start = int(input(\"Enter a start number (between 0 and 4) : \"))\n",
    "end = int(input(\"Enter an end number (between 5 and 9) : \"))\n",
    "\n",
    "print(\"The list of colors from index {} to {} : {}\".format(start, end, colors[start:end+1]))"
   ]
  },
  {
   "cell_type": "markdown",
   "metadata": {},
   "source": [
    "<h3>Challenge 075</h3>\n",
    "<p>Create a list of four three-digit numbers. Display the list to the user, showing each item from the list on a separate line. Ask the user to enter a three-digit number. If the number they have typed in matches one in the list, display the position of that number in the list, otherwise display the message “That is not in the list”.</p>"
   ]
  },
  {
   "cell_type": "code",
   "execution_count": null,
   "metadata": {},
   "outputs": [],
   "source": [
    "numlist = [123, 345, 567, 678]\n",
    "print(\"Numlist : \")\n",
    "for num in numlist :\n",
    "    print(num)\n",
    "\n",
    "number = int(input(\"Enter a 3-digit number : \"))\n",
    "\n",
    "if number in numlist : \n",
    "    print(\"\\n{} is in the position {} in the list.\".format(number, numlist.index(number)+1))\n",
    "\n",
    "else :\n",
    "    print(\"That is not in the list.\")"
   ]
  },
  {
   "cell_type": "markdown",
   "metadata": {},
   "source": [
    "<h3>Challenge 076</h3>\n",
    "<p>Ask the user to enter the names of three people they want to invite to a party and store them in a list. After they have entered all three names, ask them if they want to add another. If they do, allow them to add more names until they answer “no”. When they answer “no”, display how many people they have invited to the party.</p>"
   ]
  },
  {
   "cell_type": "code",
   "execution_count": null,
   "metadata": {},
   "outputs": [],
   "source": [
    "invitees = []\n",
    "count = 0\n",
    "\n",
    "print(\"Who do you want to invite to the party?\")\n",
    "\n",
    "for i in range(3) : \n",
    "    name = input(\"Person {} : \".format(count+1))\n",
    "    invitees.append(name)\n",
    "    count += 1\n",
    "\n",
    "flag = True\n",
    "\n",
    "while flag : \n",
    "    choice = input(\"Do you want to invite more people to the party? yes/no :\")\n",
    "    if choice == 'no' :\n",
    "        flag = False\n",
    "\n",
    "    else :\n",
    "        name = input((\"Person {} : \".format(count+1)))\n",
    "        invitees.append(name)\n",
    "        count += 1\n",
    "\n",
    "print(\"Invitees List :\",invitees)\n",
    "print(\"You invited {} people to the party.\".format(len(invitees)))\n"
   ]
  },
  {
   "cell_type": "markdown",
   "metadata": {},
   "source": [
    "<h3>Challenge 077</h3>\n",
    "<p>Change program 076 so that once the user has completed their list of names, display the full list and ask them to type in one of the names on the list. Display the position of that name in the list. Ask the user if they still want that person to come to the party. If they answer “no”, delete that entry from the list and display the list again.</p>"
   ]
  },
  {
   "cell_type": "code",
   "execution_count": null,
   "metadata": {},
   "outputs": [],
   "source": [
    "invitees = []\n",
    "count = 0\n",
    "\n",
    "print(\"Who do you want to invite to the party?\")\n",
    "\n",
    "for i in range(3) : \n",
    "    name = input(\"Person {} : \".format(count+1))\n",
    "    invitees.append(name)\n",
    "    count += 1\n",
    "\n",
    "flag = True\n",
    "\n",
    "while flag : \n",
    "    choice = input(\"Do you want to invite more people to the party? yes/no :\")\n",
    "    if choice == 'no' :\n",
    "        flag = False\n",
    "\n",
    "    else :\n",
    "        name = input((\"Person {} : \".format(count+1)))\n",
    "        invitees.append(name)\n",
    "        count += 1\n",
    "\n",
    "print(\"Invitees List :\",invitees)\n",
    "\n",
    "name = input(\"Enter the name of one person from the list : \")\n",
    "choice = input(\"Do you still want to invite {} to the party? y/n : \".format(name))\n",
    "\n",
    "if choice == 'no' : \n",
    "    invitees.remove(name)\n",
    "    print(\"Updated Invitees List : {}\".format(invitees))\n",
    "\n",
    "else :\n",
    "    print(\"No changes were made.\")"
   ]
  },
  {
   "cell_type": "markdown",
   "metadata": {},
   "source": [
    "<h3>Challenge 078</h3>\n",
    "<p>Create a list containing the titles of four TV programmes and display them on separate lines. Ask the user to enter another show and a position they want it inserted into the list. Display the list again, showing all five TV programmes in their new positions.</p>"
   ]
  },
  {
   "cell_type": "code",
   "execution_count": null,
   "metadata": {},
   "outputs": [],
   "source": [
    "programmes = ['Breaking Bad', 'The Office', 'Silicon Valley', 'Game of Thrones']\n",
    "\n",
    "for programme in programmes :\n",
    "    print(programme)\n",
    "\n",
    "show = input(\"Enter a TV show : \")\n",
    "position = int(input(\"Enter the position (1-5) : \"))\n",
    "programmes.insert(position-1, show)\n",
    "\n",
    "print(\"\\nYou added {} in the the position {} in the list.\".format(show, position))\n",
    "print(\"\\nUpdated List of Programmes : \")\n",
    "for programme in programmes :\n",
    "    print(programme)"
   ]
  },
  {
   "cell_type": "markdown",
   "metadata": {},
   "source": [
    "<h3>Challenge 079</h3>\n",
    "<p>Create an empty list called “nums”. Ask the user to enter numbers. After each number is entered, add it to the end of the nums list and display the list. Once they have entered three numbers, ask them if they still want the last number they entered saved. If they say “no”, remove the last item from the list. Display the list of numbers.</p>"
   ]
  },
  {
   "cell_type": "code",
   "execution_count": null,
   "metadata": {},
   "outputs": [],
   "source": [
    "nums = []\n",
    "\n",
    "for i in range(3) :\n",
    "    num = int(input(\"Enter a number : \"))\n",
    "    nums.append(num)\n",
    "\n",
    "print(\"NumList : {}\".format(nums))\n",
    "\n",
    "choice = input(\"Do you still want the last number in the list? yes/no : \")\n",
    "\n",
    "if choice == 'no' :\n",
    "    nums.pop()\n",
    "    print(\"Updated NumList : {}\".format(nums))\n",
    "\n",
    "else : \n",
    "    print(\"No changes were made.\")"
   ]
  }
 ],
 "metadata": {
  "language_info": {
   "codemirror_mode": {
    "name": "ipython",
    "version": 3
   },
   "file_extension": ".py",
   "mimetype": "text/x-python",
   "name": "python",
   "nbconvert_exporter": "python",
   "pygments_lexer": "ipython3",
   "version": "3.7.7-final"
  },
  "orig_nbformat": 2,
  "kernelspec": {
   "name": "python37764bit01a1b0f807d94d33ba51b7c0bd27c49d",
   "display_name": "Python 3.7.7 64-bit"
  }
 },
 "nbformat": 4,
 "nbformat_minor": 2
}