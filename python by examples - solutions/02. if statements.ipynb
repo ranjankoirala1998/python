{
 "cells": [
  {
   "cell_type": "markdown",
   "metadata": {},
   "source": [
    "<h3>Challenge 012</h3>\n",
    "<p>Ask for two numbers. If the first one is larger than the second, display the second number first and then the first number, otherwise show the first number first and then the second.</p>"
   ]
  },
  {
   "cell_type": "code",
   "execution_count": null,
   "metadata": {},
   "outputs": [],
   "source": [
    "num1 = int(input(\"Enter the first number : \"))\n",
    "num2 = int(input(\"Enter the second number : \"))\n",
    "\n",
    "if num1 > num2 :\n",
    "    print(\"First number is larger than the second number.\")\n",
    "    print(num2)\n",
    "    print(num1)\n",
    "\n",
    "else : \n",
    "    print(\"Second number is larger than the first number.\")\n",
    "    print(num1)\n",
    "    print(num2)"
   ]
  },
  {
   "cell_type": "markdown",
   "metadata": {},
   "source": [
    "<h3>Challenge 013</h3>\n",
    "<p>Ask the user to enter a number that is under 20. If they enter a number that is 20 or more, display the message “Too high”, otherwise display “Thank you”.</p>"
   ]
  },
  {
   "cell_type": "code",
   "execution_count": null,
   "metadata": {},
   "outputs": [],
   "source": [
    "num = int(input(\"Enter a number (under 20) : \"))\n",
    "\n",
    "if num == 20 or num > 20 :\n",
    "    print(\"Too High!\")\n",
    "\n",
    "else :\n",
    "    print(\"Thank You!\") "
   ]
  },
  {
   "cell_type": "markdown",
   "metadata": {},
   "source": [
    "<h3>Challenge 014</h3>\n",
    "<p>Ask the user to enter a number between 10 and 20 (inclusive). If they enter a number within this range, display the message “Thank you”, otherwise display the message “Incorrect answer”.</p>"
   ]
  },
  {
   "cell_type": "code",
   "execution_count": null,
   "metadata": {},
   "outputs": [],
   "source": [
    "num = int(input(\"Enter a number (between 10 and 20) : \"))\n",
    "\n",
    "if num > 9 and num < 21 : \n",
    "    print(\"Thank You!\") \n",
    "\n",
    "else :\n",
    "    print(\"Incorrect Answer!\")"
   ]
  },
  {
   "cell_type": "markdown",
   "metadata": {},
   "source": [
    "<h3>Challenge 015</h3>\n",
    "<p>Ask the user to enter their favourite colour. If they enter “red”, “RED” or “Red” display the message “I like red too”, otherwise display the message “I don’t like [colour], I prefer red”.</p>"
   ]
  },
  {
   "cell_type": "code",
   "execution_count": null,
   "metadata": {},
   "outputs": [],
   "source": [
    "color = input(\"Enter your favourite color : \")\n",
    "\n",
    "if color.lower() == 'red' :\n",
    "    print(\"I like red too.\")\n",
    "\n",
    "else : \n",
    "    print(\"I don't like {}, I prefer red.\".format(color))"
   ]
  },
  {
   "cell_type": "markdown",
   "metadata": {},
   "source": [
    "<h3>Challenge 016</h3>\n",
    "<p>Ask the user if it is raining and convert their answer to lower case so it doesn’t matter what case they type it in. If they answer “yes”, ask if it is windy. If they answer “yes” to this second question, display the answer “It is too windy for an umbrella”, otherwise display the message “Take an umbrella”. If they did not answer yes to the first question, display the answer “Enjoy your day”. </p>"
   ]
  },
  {
   "cell_type": "code",
   "execution_count": null,
   "metadata": {},
   "outputs": [],
   "source": [
    "isRaining = input(\"Is is raining? yes/no : \")\n",
    "\n",
    "if isRaining.lower() == 'yes' :\n",
    "    isWindy = input(\"Is is windy? yes/no : \")\n",
    "\n",
    "    if isWindy.lower() == 'yes' : \n",
    "        print(\"It is too windy for an umbrella.\")\n",
    "    \n",
    "    else : \n",
    "        print(\"Take an umbrella.\")\n",
    "\n",
    "else :\n",
    "    print(\"Enjoy your day.\") \n"
   ]
  },
  {
   "cell_type": "markdown",
   "metadata": {},
   "source": [
    "<h3>Challenge 017</h3>\n",
    "<p>Ask the user’s age. If they are 18 or over, display the message “You can vote”, if they are aged 17, display the message “You can learn to drive”, if they are 16, display the message “You can buy a lottery ticket”, if they are under 16, display the message “You can go Trick-or-Treat.”</p>"
   ]
  },
  {
   "cell_type": "code",
   "execution_count": null,
   "metadata": {},
   "outputs": [],
   "source": [
    "age = int(input(\"Enter your age : \"))\n",
    "\n",
    "if age == 18 or age > 18 :\n",
    "    print(\"You can vote.\")\n",
    "\n",
    "elif age == 17 :\n",
    "    print(\"You can learn to drive.\")\n",
    "\n",
    "elif age == 16 :\n",
    "    print(\"You can buy a lottery ticket.\")\n",
    "    \n",
    "else:\n",
    "    print(\"You can go Trick-or-Treat.\")"
   ]
  },
  {
   "cell_type": "markdown",
   "metadata": {},
   "source": [
    "<h3>Challenge 018</h3>\n",
    "<p>Ask the user to enter a number. If it is under 10, display the message “Too low”, if their number is between 10 and 20, display “Correct”, otherwise display “Too high”.</p>"
   ]
  },
  {
   "cell_type": "code",
   "execution_count": null,
   "metadata": {},
   "outputs": [],
   "source": [
    "num = int(input(\"Enter a number : \"))\n",
    "\n",
    "if num < 10 : \n",
    "    print(\"Too Low!\")\n",
    "\n",
    "elif num > 9 and num < 21 :\n",
    "    print(\"Correct!\")\n",
    "    \n",
    "else :\n",
    "    print(\"Too High!\")"
   ]
  },
  {
   "cell_type": "markdown",
   "metadata": {},
   "source": [
    "<h3>Challenge 019</h3>\n",
    "<p>Ask the user to enter 1, 2 or 3. If they enter a 1, display the message “Thank you”, if they enter a 2, display “Well done”, if they enter a 3, display “Correct”. If they enter anything else, display “Error message”. </p>"
   ]
  },
  {
   "cell_type": "code",
   "execution_count": null,
   "metadata": {},
   "outputs": [],
   "source": [
    "choice = int(input(\"Enter 1, 2 or 3 :\"))\n",
    "\n",
    "if choice == 1 :\n",
    "    print(\"Thank You!\")\n",
    "\n",
    "elif choice == 2 :\n",
    "    print(\"Well Done!\")\n",
    "\n",
    "elif choice == 3 :\n",
    "    print(\"Correct!\")\n",
    "\n",
    "else :\n",
    "    print(\"Invalid Choice!\")"
   ]
  },
  {
   "cell_type": "code",
   "execution_count": null,
   "metadata": {},
   "outputs": [],
   "source": []
  }
 ],
 "metadata": {
  "language_info": {
   "codemirror_mode": {
    "name": "ipython",
    "version": 3
   },
   "file_extension": ".py",
   "mimetype": "text/x-python",
   "name": "python",
   "nbconvert_exporter": "python",
   "pygments_lexer": "ipython3",
   "version": "3.7.7-final"
  },
  "orig_nbformat": 2,
  "kernelspec": {
   "name": "python37764bit01a1b0f807d94d33ba51b7c0bd27c49d",
   "display_name": "Python 3.7.7 64-bit"
  }
 },
 "nbformat": 4,
 "nbformat_minor": 2
}