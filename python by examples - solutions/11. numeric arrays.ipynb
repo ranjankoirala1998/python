{
 "cells": [
  {
   "cell_type": "markdown",
   "metadata": {},
   "source": [
    "<h3>Challenge 088</h3>\n",
    "<p>Ask the user for a list of five integers. Store them in an array. Sort the list and display it in reverse order.</p>"
   ]
  },
  {
   "cell_type": "code",
   "execution_count": null,
   "metadata": {},
   "outputs": [],
   "source": [
    "from array import *\n",
    "\n",
    "nums = array('i', [])\n",
    "\n",
    "for i in range(5) : \n",
    "    num = int(input(\"Enter an integer : \"))\n",
    "    nums.append(num)\n",
    "    \n",
    "nums = sorted(nums)\n",
    "print(nums[-1::-1])"
   ]
  },
  {
   "cell_type": "markdown",
   "metadata": {},
   "source": [
    "<h3>Challenge 089</h3>\n",
    "<p>Create an array which will store a list of integers. Generate five random numbers and store them in the array. Display the array (showing each item on a separate line).</p>"
   ]
  },
  {
   "cell_type": "code",
   "execution_count": null,
   "metadata": {},
   "outputs": [],
   "source": [
    "from array import *\n",
    "import random\n",
    "\n",
    "nums = array('i', [])\n",
    "\n",
    "for i in range(5) : \n",
    "    num = random.randint(0, 20)\n",
    "    nums.append(num)\n",
    "\n",
    "for num in nums : \n",
    "    print(num)"
   ]
  },
  {
   "cell_type": "markdown",
   "metadata": {},
   "source": [
    "<h3>Challenge 090</h3>\n",
    "<p>Ask the user to enter numbers. If they enter a number between 10 and 20, save it in the array, otherwise display the message “Outside the range”. Once five numbers have been successfully added, display the message “Thank you” and display the array with each item shown on a separate line.</p>"
   ]
  },
  {
   "cell_type": "code",
   "execution_count": null,
   "metadata": {},
   "outputs": [],
   "source": [
    "from array import *\n",
    "import random\n",
    "\n",
    "numArray = array('i', [])\n",
    "\n",
    "while not len(numArray) == 5 : \n",
    "    num = int(input(\"Enter a number (between 10 and 20) : \"))\n",
    "    \n",
    "    if num in range(10, 21) : \n",
    "        numArray.append(num)\n",
    "\n",
    "    else : \n",
    "        print(\"Out of range.\")\n",
    "\n",
    "print(\"Thank You!\")\n",
    "\n",
    "for num in numArray : \n",
    "    print(num)"
   ]
  },
  {
   "cell_type": "markdown",
   "metadata": {},
   "source": [
    "<h3>Challenge 091</h3>\n",
    "<p>Create an array which contains five numbers (two of which should be repeated). Display the whole array to the user. Ask the user to enter one of the numbers from the array and then display a message saying how many times that number appears in the list.</p>"
   ]
  },
  {
   "cell_type": "code",
   "execution_count": null,
   "metadata": {},
   "outputs": [],
   "source": [
    "from array import *\n",
    "\n",
    "nums = array('i', [2, 3, 5, 2, 5])\n",
    "print(nums)\n",
    "\n",
    "num = int(input(\"Enter a number from the list : \"))\n",
    "\n",
    "print(\"{} is repeated {} time(s) in the list.\".format(num, nums.count(num)))"
   ]
  },
  {
   "cell_type": "markdown",
   "metadata": {},
   "source": [
    "<h3>Challenge 092</h3>\n",
    "<p>Create two arrays (one containing three numbers that the user enters and one containing a set of five random numbers). Join these two arrays together into one large array. Sort this large array and display it so that each number appears on a separate line.</p>"
   ]
  },
  {
   "cell_type": "code",
   "execution_count": null,
   "metadata": {},
   "outputs": [],
   "source": [
    "from array import *\n",
    "import random\n",
    "\n",
    "a1 = array('i', [])\n",
    "a2 = array('i', [])\n",
    "\n",
    "for i in range(3) : \n",
    "    num = int(input(\"Enter an integer : \"))\n",
    "    a1.append(num)\n",
    "\n",
    "for i in range(5) : \n",
    "    num = random.randint(0, 20)\n",
    "    a2.append(num)\n",
    "\n",
    "a1.extend(a2) # the contents of  a2 is merged into the array a1\n",
    "\n",
    "for num in a1 :\n",
    "    print(num) "
   ]
  },
  {
   "cell_type": "markdown",
   "metadata": {},
   "source": [
    "<h3>Challenge 093</h3>\n",
    "<p>Ask the user to enter five numbers. Sort them into order and present them to the user. Ask them to select one of the numbers. Remove it from the original array and save it in a new array.</p>"
   ]
  },
  {
   "cell_type": "code",
   "execution_count": null,
   "metadata": {},
   "outputs": [],
   "source": [
    "from array import *\n",
    "\n",
    "nums = array('i', [])\n",
    "\n",
    "for i in range(5) : \n",
    "    num = int(input(\"Enter an integer : \"))\n",
    "    nums.append(num)\n",
    "\n",
    "nums = sorted(nums)\n",
    "print(nums)\n",
    "\n",
    "number = int(input(\"Enter a number : \"))\n",
    "if num in nums : \n",
    "    nums.remove(number)\n",
    "    new_nums = array('i', [])\n",
    "    new_nums.append(number)\n",
    "    print(nums)\n",
    "    print(list(new_nums))\n",
    "\n",
    "else : \n",
    "    print(\"Number not found in the list.\")"
   ]
  },
  {
   "cell_type": "markdown",
   "metadata": {},
   "source": [
    "<h3>Challenge 094</h3>\n",
    "<p>Display an array of five numbers. Ask the user to select one of the numbers. Once they have selected a number, display the position of that item in the array. If they enter something that is not in the array, ask them to try again until they select a relevant item.</p>"
   ]
  },
  {
   "cell_type": "code",
   "execution_count": null,
   "metadata": {},
   "outputs": [],
   "source": [
    "from array import *\n",
    "\n",
    "nums = array('i', [2, 3, 5, 7, 11])\n",
    "print(list(nums))\n",
    "\n",
    "number = int(input(\"Enter a number in the list : \"))\n",
    "\n",
    "flag = True\n",
    "\n",
    "while flag : \n",
    "    if number in nums :\n",
    "        print(\"{} is in the position {} in the list.\".format(number, nums.index(number)+1))\n",
    "        flag = False\n",
    "\n",
    "    else :\n",
    "        number = int(input(\"Not In The List. Try Again? : \"))"
   ]
  },
  {
   "cell_type": "markdown",
   "metadata": {},
   "source": [
    "<h3>Challenge 095</h3>\n",
    "<p>Create an array of five numbers between 10 and 100 which each have two decimal places. Ask the user to enter a whole number between 2 and 5. If they enter something outside of that range, display a suitable error message and ask them to try again until they enter a valid amount. Divide each of the numbers in the array by the number the user entered and display the answers shown to two decimal places.</p>"
   ]
  },
  {
   "cell_type": "code",
   "execution_count": null,
   "metadata": {},
   "outputs": [],
   "source": [
    "from array import *\n",
    "\n",
    "nums = array('f', [26.74, 43.18, 54.96, 75.26, 81.23])\n",
    "\n",
    "print(\"NumList : \")\n",
    "for num in nums:\n",
    "    print(round(num, 2))\n",
    "\n",
    "divisor = int(input(\"Enter a number (between 2 and 5)) : \"))\n",
    "\n",
    "flag = True\n",
    "\n",
    "while flag : \n",
    "    if divisor in range(2,6):\n",
    "        flag = False\n",
    "\n",
    "    else :\n",
    "        divisor = int(input(\"Not Within Range. Try Again? : \"))\n",
    "\n",
    "new_nums = array('f', [])\n",
    "\n",
    "for num in nums : \n",
    "    new_nums.append(round(num/divisor, 2))\n",
    "\n",
    "print(\"\\nDividing each number in NumList by {}, the resulting list would be : \".format(divisor))\n",
    "for num in new_nums :\n",
    "    print(round(num, 2))\n"
   ]
  },
  {
   "cell_type": "code",
   "execution_count": null,
   "metadata": {},
   "outputs": [],
   "source": []
  }
 ],
 "metadata": {
  "language_info": {
   "codemirror_mode": {
    "name": "ipython",
    "version": 3
   },
   "file_extension": ".py",
   "mimetype": "text/x-python",
   "name": "python",
   "nbconvert_exporter": "python",
   "pygments_lexer": "ipython3",
   "version": "3.7.7-final"
  },
  "orig_nbformat": 2,
  "kernelspec": {
   "name": "python37764bit01a1b0f807d94d33ba51b7c0bd27c49d",
   "display_name": "Python 3.7.7 64-bit"
  }
 },
 "nbformat": 4,
 "nbformat_minor": 2
}