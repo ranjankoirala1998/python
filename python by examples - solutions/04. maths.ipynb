{
 "cells": [
  {
   "cell_type": "markdown",
   "metadata": {},
   "source": [
    "<h3>Challenge 027</h3>\n",
    "<p>Ask the user to enter a number with lots of decimal places. Multiply this number by two and display the answer.</p>"
   ]
  },
  {
   "cell_type": "code",
   "execution_count": null,
   "metadata": {},
   "outputs": [],
   "source": [
    "real = float(input(\"Enter a number with lots of decimal places : \"))\n",
    "\n",
    "print(\"{} when multiplied by 2 is {}.\".format(real, real*2))"
   ]
  },
  {
   "cell_type": "markdown",
   "metadata": {},
   "source": [
    "<h3>Challenge 028</h3>\n",
    "<p>Update program 027 so that it will display the answer to two decimal places. </p>"
   ]
  },
  {
   "cell_type": "code",
   "execution_count": null,
   "metadata": {},
   "outputs": [],
   "source": [
    "real = float(input(\"Enter a number with lots of decimal places : \"))\n",
    "\n",
    "print(\"{} when multiplied by 2 is {} (rounded to two decimal places).\".format(real, round(real*2, 2)))"
   ]
  },
  {
   "cell_type": "markdown",
   "metadata": {},
   "source": [
    "<h3>Challenge 029</h3>\n",
    "<p>Ask the user to enter an integer that is over 500. Work out the square root of that number and display it to two decimal places.</p>"
   ]
  },
  {
   "cell_type": "code",
   "execution_count": null,
   "metadata": {},
   "outputs": [],
   "source": [
    "import math\n",
    "\n",
    "num = int(input(\"Enter a number (over 500) : \"))\n",
    "\n",
    "sqrt_num = math.sqrt(num) \n",
    "\n",
    "print(\"The square root of {} is {}.\".format(num, round(sqrt_num, 2)))"
   ]
  },
  {
   "cell_type": "markdown",
   "metadata": {},
   "source": [
    "<h3>Challenge 030</h3>\n",
    "<p>Display pi (π) to five decimal places.</p>"
   ]
  },
  {
   "cell_type": "code",
   "execution_count": null,
   "metadata": {},
   "outputs": [],
   "source": [
    "import math\n",
    "\n",
    "pi = math.pi\n",
    "\n",
    "print(\"The value of pi (upto 5 decimal places) is {}.\".format(round(pi, 5)))"
   ]
  },
  {
   "cell_type": "markdown",
   "metadata": {},
   "source": [
    "<h3>Challenge 031</h3>\n",
    "<p>Ask the user to enter the radius of a circle (measurement from the centre point to the edge). Work out the area of the circle (π*radius<sup>2</sup>).</p>"
   ]
  },
  {
   "cell_type": "code",
   "execution_count": null,
   "metadata": {},
   "outputs": [],
   "source": [
    "import math\n",
    "\n",
    "radius = float(input(\"Enter the radius of a circle : \"))\n",
    "\n",
    "area = math.pi * (radius ** 2)\n",
    "\n",
    "print(\"The area of the circle having radius {} units is {} units squared.\".format(radius, round(area,2)))"
   ]
  },
  {
   "cell_type": "markdown",
   "metadata": {},
   "source": [
    "<h3>Challenge 032</h3>\n",
    "<p>Ask for the radius and the depth of a cylinder and work out the total volume (circle area*depth) rounded to three decimal places.</p>"
   ]
  },
  {
   "cell_type": "code",
   "execution_count": null,
   "metadata": {},
   "outputs": [],
   "source": [
    "import math\n",
    "\n",
    "radius = float(input(\"Enter the radius of a cylinder : \"))\n",
    "height = float(input(\"Enter the height of the cylinder : \"))\n",
    "\n",
    "volume = math.pi * (radius ** 2) * height\n",
    "\n",
    "print(\"The volume of the cylinder having radius {} units and height {} units is {} units cubed.\".format(radius, height, round(volume,3)))"
   ]
  },
  {
   "cell_type": "markdown",
   "metadata": {},
   "source": [
    "<h3>Challenge 033</h3>\n",
    "<p>Ask the user to enter two numbers. Use whole number division to divide the first number by the second and also work out the remainder and display the answer in a user-friendly way (e.g. if they enter 7 and 2 display “7 divided by 2 is 3 with 1 remaining”)</p>"
   ]
  },
  {
   "cell_type": "code",
   "execution_count": null,
   "metadata": {},
   "outputs": [],
   "source": [
    "num1 = int(input(\"Enter a number : \"))\n",
    "num2 = int(input(\"Enter another number : \"))\n",
    "\n",
    "quotient = num1 // num2\n",
    "remainder = num1 % num2\n",
    "\n",
    "print(\"{} divided by {} is {} with {} remaining.\".format(num1, num2, quotient, remainder))"
   ]
  },
  {
   "cell_type": "markdown",
   "metadata": {},
   "source": [
    "<h3>Challenge 034</h3>\n",
    "<p>Display the following message: </p>\n",
    "</br>1) Square</br>2) Triangle</br></br>Enter a number : </br></br>\n",
    "If the user enters 1, then it should ask them for the length of one of its sides and display the area. If they select 2, it should ask for the base and height of the triangle and display the area. If they type in anything else, it should give them a suitable error message. </p>"
   ]
  },
  {
   "cell_type": "code",
   "execution_count": null,
   "metadata": {},
   "outputs": [],
   "source": [
    "print(\"\"\"\n",
    "1) Square\n",
    "2) Triangle\n",
    "\"\"\")\n",
    "\n",
    "choice = int(input(\"Enter a number : \"))\n",
    "\n",
    "if choice == 1 : \n",
    "    length = float(input(\"Enter the length of a square : \"))\n",
    "    area = length ** 2\n",
    "\n",
    "    print(f\"The area of the square with one of the side {length} units is {area} units squared.\")\n",
    "\n",
    "elif choice == 2 :\n",
    "    base = float(input(\"Enter the base of a triangle : \"))\n",
    "    height = float(input(\"Enter the height of the triangle : \"))\n",
    "    area = 0.5 * base * height\n",
    "\n",
    "    print(f\"The area of the triangle with base {base} units and height {height} units is {area} units squared.\")\n",
    "\n",
    "else : \n",
    "    print(\"Invalid Choice!!\")\n"
   ]
  }
 ],
 "metadata": {
  "language_info": {
   "codemirror_mode": {
    "name": "ipython",
    "version": 3
   },
   "file_extension": ".py",
   "mimetype": "text/x-python",
   "name": "python",
   "nbconvert_exporter": "python",
   "pygments_lexer": "ipython3",
   "version": "3.7.7-final"
  },
  "orig_nbformat": 2,
  "kernelspec": {
   "name": "python37764bit01a1b0f807d94d33ba51b7c0bd27c49d",
   "display_name": "Python 3.7.7 64-bit"
  }
 },
 "nbformat": 4,
 "nbformat_minor": 2
}