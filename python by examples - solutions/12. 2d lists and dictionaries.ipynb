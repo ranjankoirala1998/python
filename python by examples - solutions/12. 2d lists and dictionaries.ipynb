{
 "cells": [
  {
   "cell_type": "markdown",
   "metadata": {},
   "source": [
    "<h3>Challenge 096</h3>\n",
    "<p>Create the following using a simple 2D list using the standard Python indexing:</p>\n",
    "<table>\n",
    "<tr>\n",
    "    <th>index</th>\n",
    "    <th>0</th>\n",
    "    <th>1</th>\n",
    "    <th>2</th>\n",
    "</tr>\n",
    "<tr>\n",
    "    <th>0</th>\n",
    "    <th>2</th>\n",
    "    <th>5</th>\n",
    "    <th>8</th>\n",
    "</tr>\n",
    "<tr>\n",
    "    <th>1</th>\n",
    "    <th>3</th>\n",
    "    <th>7</th>\n",
    "    <th>4</th>   \n",
    "</tr>\n",
    "<tr>\n",
    "    <th>2</th>\n",
    "    <th>1</th>\n",
    "    <th>6</th>\n",
    "    <th>9</th>\n",
    "</tr>\n",
    "<tr>\n",
    "    <th>3</th>\n",
    "    <th>4</th>\n",
    "    <th>2</th>\n",
    "    <th>0</th>\n",
    "</tr>\n",
    "</table>"
   ]
  },
  {
   "cell_type": "code",
   "execution_count": null,
   "metadata": {},
   "outputs": [],
   "source": [
    "list_2d = [[2, 5, 8], [3, 7, 4], [1, 6, 9], [4, 2, 0]]  \n",
    "print(list_2d)  "
   ]
  },
  {
   "cell_type": "markdown",
   "metadata": {},
   "source": [
    "<h3>Challenge 097</h3>\n",
    "<p>Using the 2D list from program 096, ask the user to select a row and a column and display that value.</p>"
   ]
  },
  {
   "cell_type": "code",
   "execution_count": null,
   "metadata": {},
   "outputs": [],
   "source": [
    "list_2d = [[2, 5, 8], [3, 7, 4], [1, 6, 9], [4, 2, 0]]  \n",
    "\n",
    "row = int(input(\"Enter row (1-4) : \"))\n",
    "column = int(input(\"Enter column (1-3) : \"))\n",
    "\n",
    "print(\"The value in row-{} and column-{} is {}.\".format(row, column, list_2d[row-1][column-1]))"
   ]
  },
  {
   "cell_type": "markdown",
   "metadata": {},
   "source": [
    "<h3>Challenge 098</h3>\n",
    "<p>Using the 2D list from program 096, ask the user which row they would like displayed and display just that row. Ask them to enter a new value and add it to the end of the row and display the row again.</p>"
   ]
  },
  {
   "cell_type": "code",
   "execution_count": null,
   "metadata": {},
   "outputs": [],
   "source": [
    "list_2d = [[2, 5, 8], [3, 7, 4], [1, 6, 9], [4, 2, 0]]  \n",
    "\n",
    "row = int(input(\"Enter row to be displayed (1-4) : \"))\n",
    "\n",
    "print(\"Row-{} : {}\".format(row, list_2d[row-1]))\n",
    "\n",
    "item = int(input(\"Add new item into this row : \"))\n",
    "list_2d[row-1].append(item)\n",
    "\n",
    "print(\"A new item was added in the row.\")\n",
    "print(\"New Row-{} : {}\".format(row, list_2d[row-1]))"
   ]
  },
  {
   "cell_type": "markdown",
   "metadata": {},
   "source": [
    "<h3>Challenge 099</h3>\n",
    "<p>Change your previous program to ask the user which row they want displayed. Display that row. Ask which column in that row they want displayed and display the value that is held there. Ask the user if they want to change the value. If they do, ask for a new value and change the data. Finally, display the whole row again.</p>"
   ]
  },
  {
   "cell_type": "code",
   "execution_count": null,
   "metadata": {},
   "outputs": [],
   "source": [
    "list_2d = [[2, 5, 8], [3, 7, 4], [1, 6, 9], [4, 2, 0]]  \n",
    "\n",
    "row = int(input(\"Enter row to be displayed (1-4) : \"))\n",
    "\n",
    "print(\"Row-{} : {}\".format(row, list_2d[row-1]))\n",
    "\n",
    "column = int(input(\"Enter column in this row to be displayed (1-3) : \"))\n",
    "\n",
    "print(\"Value : {}\".format(list_2d[row-1][column-1]))\n",
    "\n",
    "choice = input(\"Do you want to change this value? y/n : \")\n",
    "\n",
    "if choice == 'y' :\n",
    "    new_value = int(input(\"Enter new value : \"))\n",
    "    list_2d[row-1][column-1]  = new_value\n",
    "    print(\"Updated Row-{} : {}\".format(row, list_2d[row-1]))\n",
    "\n",
    "else :\n",
    "    print(\"No changes were made.\")"
   ]
  },
  {
   "cell_type": "markdown",
   "metadata": {},
   "source": [
    "<h3>Challenge 100</h3>\n",
    "<p>Create the following using a 2D dictionary showing the sales each person has made in the different geographical regions: </p>\n",
    "<table>\n",
    "<tr>\n",
    "    <th>-</th>\n",
    "    <th>North</th>\n",
    "    <th>South</th>\n",
    "    <th>East</th>\n",
    "    <th>West</th>\n",
    "</tr>\n",
    "<tr>\n",
    "    <th>John</th>\n",
    "    <th>3056</th>\n",
    "    <th>8463</th>\n",
    "    <th>8441</th>\n",
    "    <th>2694</th>\n",
    "</tr>\n",
    "<tr>\n",
    "    <th>Tom</th>\n",
    "    <th>4832</th>\n",
    "    <th>6786</th>\n",
    "    <th>4737</th>   \n",
    "    <th>3612</th>   \n",
    "</tr>\n",
    "<tr>\n",
    "    <th>Anne</th>\n",
    "    <th>5239</th>\n",
    "    <th>4802</th>\n",
    "    <th>5820</th>\n",
    "    <th>1859</th>\n",
    "</tr>\n",
    "<tr>\n",
    "    <th>Fiona</th>\n",
    "    <th>3904</th>\n",
    "    <th>3645</th>\n",
    "    <th>8821</th>\n",
    "    <th>2451</th>\n",
    "</tr>\n",
    "</table>"
   ]
  },
  {
   "cell_type": "code",
   "execution_count": null,
   "metadata": {},
   "outputs": [],
   "source": [
    "dict_2d = {'John' : {'North' : 3056, 'South' : 8463, 'East' : 8441, 'West' : 2694}, 'Tom' : {'North' : 4832, 'South' : 6786, 'East' : 4737, 'West' : 3612}, 'Anne' : {'North' : 5239, 'South' : 4802, 'East' : 5820, 'West' : 1859}, 'Fiona' : {'North' : 3904, 'South' : 3645, 'East' : 8821, 'West' : 2451}}\n",
    "\n",
    "print(dict_2d)"
   ]
  },
  {
   "cell_type": "markdown",
   "metadata": {},
   "source": [
    "<h3>Challenge 101</h3>\n",
    "<p>Using program 100, ask the user for a name and a region. Display the relevant data. Ask the user for the name and region of data they want to change and allow them to make the alteration to the sales figure. Display the sales for all regions for the name they choose.</p>"
   ]
  },
  {
   "cell_type": "code",
   "execution_count": null,
   "metadata": {},
   "outputs": [],
   "source": [
    "dict_2d = {'John' : {'North' : 3056, 'South' : 8463, 'East' : 8441, 'West' : 2694}, 'Tom' : {'North' : 4832, 'South' : 6786, 'East' : 4737, 'West' : 3612}, 'Anne' : {'North' : 5239, 'South' : 4802, 'East' : 5820, 'West' : 1859}, 'Fiona' : {'North' : 3904, 'South' : 3645, 'East' : 8821, 'West' : 2451}}\n",
    "\n",
    "print(\"Names : {}\".format(list(dict_2d.keys())))\n",
    "print(\"Regions : {}\".format(['North', 'South', 'East', 'West']))\n",
    "print(\"\\n\")\n",
    "\n",
    "name = input(\"Enter a name : \")\n",
    "region = input(\"Enter the direction : \")\n",
    "\n",
    "print(\"The sales figure for {} in {} is {}.\".format(name, region, dict_2d[name][region]))\n",
    "\n",
    "choice = input(\"Do you want to change this sales figure? y/n : \")\n",
    "\n",
    "if choice == 'y' :\n",
    "    new_value = int(input(\"Enter new value : \"))\n",
    "    dict_2d[name][region]  = new_value\n",
    "    print(\"The updated sales figure for {} in {} is {}.\".format(name, region, dict_2d[name][region]))\n",
    "\n",
    "else :\n",
    "    print(\"No changes were made.\")"
   ]
  },
  {
   "cell_type": "markdown",
   "metadata": {},
   "source": [
    "<h3>Challenge 102</h3>\n",
    "<p>Ask the user to enter the name, age and shoe size for four people. Ask for the name of one of the people in the list and display their age and shoe size.</p>"
   ]
  },
  {
   "cell_type": "code",
   "execution_count": null,
   "metadata": {},
   "outputs": [],
   "source": [
    "dict_2d = {}\n",
    "\n",
    "for i in range(4) : \n",
    "    name = input(\"Enter name : \")\n",
    "\n",
    "    new_dict = {}\n",
    "    age = int(input(\"Enter age : \"))\n",
    "    new_dict['age'] = age\n",
    "    shoesize = int(input(\"Enter shoesize : \"))\n",
    "    new_dict['shoesize'] = shoesize\n",
    "\n",
    "    dict_2d[name] = new_dict\n",
    "\n",
    "person = input(\"Enter the name of a person in the list : \")\n",
    "\n",
    "for key in dict_2d[person].keys() : \n",
    "    print(\"{} : {}\".format(key, dict_2d[person][key]))"
   ]
  },
  {
   "cell_type": "markdown",
   "metadata": {},
   "source": [
    "<h3>Challenge 103</h3>\n",
    "<p>Adapt program 102 to display the names and ages of all the people in the list but do not show their shoe size.</p>"
   ]
  },
  {
   "cell_type": "code",
   "execution_count": null,
   "metadata": {},
   "outputs": [],
   "source": [
    "dict_2d = {}\n",
    "\n",
    "for i in range(4) : \n",
    "    name = input(\"Enter name : \")\n",
    "\n",
    "    new_dict = {}\n",
    "    age = int(input(\"Enter age : \"))\n",
    "    new_dict['age'] = age\n",
    "    shoesize = int(input(\"Enter shoesize : \"))\n",
    "    new_dict['shoesize'] = shoesize\n",
    "\n",
    "    dict_2d[name] = new_dict\n",
    "\n",
    "for person in dict_2d.keys() :\n",
    "    for key in dict_2d[person].keys() :\n",
    "        if key == 'age' :\n",
    "            print(\"The age of {} is {}.\".format(person, dict_2d[person][key]))"
   ]
  },
  {
   "cell_type": "markdown",
   "metadata": {},
   "source": [
    "<h3>Challenge 104</h3>\n",
    "<p>After gathering the four names, ages and shoe sizes, ask the user to enter the name of the person they want to remove from the list. Delete this row from the data and display the other rows on separate lines.</p>"
   ]
  },
  {
   "cell_type": "code",
   "execution_count": null,
   "metadata": {},
   "outputs": [],
   "source": [
    "dict_2d = {}\n",
    "\n",
    "for i in range(4) : \n",
    "    name = input(\"Enter name : \")\n",
    "\n",
    "    new_dict = {}\n",
    "    age = int(input(\"Enter age : \"))\n",
    "    new_dict['age'] = age\n",
    "    shoesize = int(input(\"Enter shoesize : \"))\n",
    "    new_dict['shoesize'] = shoesize\n",
    "\n",
    "    dict_2d[name] = new_dict\n",
    "\n",
    "remove = input(\"Enter the name of a person you wnat to remove from the list : \")\n",
    "\n",
    "del dict_2d[remove]\n",
    "\n",
    "for person in dict_2d.keys() :\n",
    "    print(person)\n",
    "    for key in dict_2d[person].keys() :\n",
    "        print(\"{} : {}\".format(key, dict_2d[person][key]))\n",
    "    print(\"\\n\")"
   ]
  }
 ],
 "metadata": {
  "language_info": {
   "codemirror_mode": {
    "name": "ipython",
    "version": 3
   },
   "file_extension": ".py",
   "mimetype": "text/x-python",
   "name": "python",
   "nbconvert_exporter": "python",
   "pygments_lexer": "ipython3",
   "version": "3.7.7-final"
  },
  "orig_nbformat": 2,
  "kernelspec": {
   "name": "python37764bit01a1b0f807d94d33ba51b7c0bd27c49d",
   "display_name": "Python 3.7.7 64-bit"
  }
 },
 "nbformat": 4,
 "nbformat_minor": 2
}