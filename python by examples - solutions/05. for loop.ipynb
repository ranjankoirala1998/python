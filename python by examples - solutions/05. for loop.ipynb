{
 "cells": [
  {
   "cell_type": "markdown",
   "metadata": {},
   "source": [
    "<h3>Challenge 035</h3>\n",
    "<p>Ask the user to enter their name and then display their name three times.</p>"
   ]
  },
  {
   "cell_type": "code",
   "execution_count": null,
   "metadata": {},
   "outputs": [],
   "source": [
    "name = input(\"Enter your name : \")\n",
    "\n",
    "for i in range(3) : \n",
    "    print(name)"
   ]
  },
  {
   "cell_type": "markdown",
   "metadata": {},
   "source": [
    "<h3>Challenge 036</h3>\n",
    "<p>Alter program 035 so that it will ask the user to enter their name and a number and then display their name that number of times. </p>"
   ]
  },
  {
   "cell_type": "code",
   "execution_count": null,
   "metadata": {},
   "outputs": [],
   "source": [
    "name = input(\"Enter your name : \")\n",
    "num = int(input(\"Enter a number : \"))\n",
    "\n",
    "for i in range(num) : \n",
    "    print(name)"
   ]
  },
  {
   "cell_type": "markdown",
   "metadata": {},
   "source": [
    "<h3>Challenge 037</h3>\n",
    "<p>Ask the user to enter their name and display each letter in their name on a separate line.</p>"
   ]
  },
  {
   "cell_type": "code",
   "execution_count": null,
   "metadata": {},
   "outputs": [],
   "source": [
    "name = input(\"Enter your name : \")\n",
    "\n",
    "for letter in name : \n",
    "    print(letter)"
   ]
  },
  {
   "cell_type": "markdown",
   "metadata": {},
   "source": [
    "<h3>Challenge 038</h3>\n",
    "<p>Change program 037 to also ask for a number. Display their name (one letter at a time on each line) and repeat this for the number of times they entered.</p>"
   ]
  },
  {
   "cell_type": "code",
   "execution_count": null,
   "metadata": {},
   "outputs": [],
   "source": [
    "name = input(\"Enter your name : \")\n",
    "num = int(input(\"Enter a number : \"))\n",
    "\n",
    "for i in range(num) : \n",
    "    for letter in name : \n",
    "        print(letter)"
   ]
  },
  {
   "cell_type": "markdown",
   "metadata": {},
   "source": [
    "<h3>Challenge 039</h3>\n",
    "<p>Ask the user to enter a number between 1 and 12 and then display the times table for that number.</p>"
   ]
  },
  {
   "cell_type": "code",
   "execution_count": null,
   "metadata": {},
   "outputs": [],
   "source": [
    "num = int(input(\"Enter a number : \"))\n",
    "\n",
    "print(\"Multiplication table of {}\".format(num))\n",
    "\n",
    "for i in range(1,11) :\n",
    "    print(\"{} * {} = {}\".format(num, i, num*i))"
   ]
  },
  {
   "cell_type": "markdown",
   "metadata": {},
   "source": [
    "<h3>Challenge 040</h3>\n",
    "<p>Ask for a number below 50 and then count down from 50 to that number, making sure you show the number they entered in the output.</p>"
   ]
  },
  {
   "cell_type": "code",
   "execution_count": null,
   "metadata": {},
   "outputs": [],
   "source": [
    "num = int(input(\"Enter a number (below 50) : \"))\n",
    "\n",
    "for i in range(50, num-1, -1) : \n",
    "    print(i)"
   ]
  },
  {
   "cell_type": "markdown",
   "metadata": {},
   "source": [
    "<h3>Challenge 041</h3>\n",
    "<p>Ask the user to enter their name and a number. If the number is less than 10, then display their name that number of times; otherwise display the message “Too high” three times.</p>"
   ]
  },
  {
   "cell_type": "code",
   "execution_count": null,
   "metadata": {},
   "outputs": [],
   "source": [
    "name = input(\"Enter your name : \")\n",
    "num = int(input(\"Enter a number : \"))\n",
    "\n",
    "if num < 10 :\n",
    "    for i in range(num) : \n",
    "        print(name)\n",
    "\n",
    "else :\n",
    "    for i in range(3) : \n",
    "        print(\"Too High\")\n",
    "    "
   ]
  },
  {
   "cell_type": "markdown",
   "metadata": {},
   "source": [
    "<h3>Challenge 042</h3>\n",
    "<p>Set a variable called total to 0. Ask the user to enter five numbers and after each input ask them if they want that number included. If they do, then add the number to the total. If they do not want it included, don’t add it to the total. After they have entered all five numbers, display the total.</p>"
   ]
  },
  {
   "cell_type": "code",
   "execution_count": null,
   "metadata": {},
   "outputs": [],
   "source": [
    "total = 0\n",
    "\n",
    "print(\"Enter five numbers : \")\n",
    "\n",
    "for i in range(5) : \n",
    "    num = int(input(\"Enter number {} : \".format(i+1)))\n",
    "    \n",
    "    choice = input(\"Do you want this number included in total? y/n : \")\n",
    "\n",
    "    if choice == 'y' :\n",
    "        total += num\n",
    "    \n",
    "    else : \n",
    "        continue\n",
    "\n",
    "print(\"The total of included numbers is {}.\".format(total))"
   ]
  },
  {
   "cell_type": "markdown",
   "metadata": {},
   "source": [
    "<h3>Challenge 043</h3>\n",
    "<p>Ask which direction the user wants to count (up or down). If they select up, then ask them for the top number and then count from 1 to that number. If they select down, ask them to enter a number below 20 and then count down from 20 to that number. If they entered something other than up or down, display the message “I don’t understand”.</p>"
   ]
  },
  {
   "cell_type": "code",
   "execution_count": null,
   "metadata": {},
   "outputs": [],
   "source": [
    "count_dir = input(\"In which direction do you want to count? up/down : \")\n",
    "\n",
    "if count_dir == 'up' :\n",
    "    top = int(input(\"Enter a number : \"))\n",
    "    for num in range(1, top+1) : \n",
    "        print(num)\n",
    "\n",
    "elif count_dir == 'down' :\n",
    "    bottom  = int(input(\"Enter a number (below 20) : \"))\n",
    "    for num in range(20, bottom-1, -1) :\n",
    "        print(num)\n",
    "\n",
    "else : \n",
    "    print(\"I don't understand.\")"
   ]
  },
  {
   "cell_type": "markdown",
   "metadata": {},
   "source": [
    "<h3>Challenge 044</h3>\n",
    "<p>Ask how many people the user wants to invite to a party. If they enter a number below 10, ask for the names and after each name display “[name] has been invited”. If they enter a number which is 10 or higher, display the message “Too many people”.</p>"
   ]
  },
  {
   "cell_type": "code",
   "execution_count": null,
   "metadata": {},
   "outputs": [],
   "source": [
    "no_of_invites = int(input(\"How many people do you want to invite to the party? : \"))\n",
    "\n",
    "if no_of_invites < 10 :\n",
    "    for i in range(no_of_invites) :\n",
    "        invitee = input(\"Who do you want to invite? Enter name : \")\n",
    "        print(\"{} has been invited.\".format(invitee))\n",
    "    \n",
    "else :\n",
    "    print(\"Too many people.\")"
   ]
  },
  {
   "cell_type": "code",
   "execution_count": null,
   "metadata": {},
   "outputs": [],
   "source": []
  }
 ],
 "metadata": {
  "language_info": {
   "codemirror_mode": {
    "name": "ipython",
    "version": 3
   },
   "file_extension": ".py",
   "mimetype": "text/x-python",
   "name": "python",
   "nbconvert_exporter": "python",
   "pygments_lexer": "ipython3",
   "version": "3.7.7-final"
  },
  "orig_nbformat": 2,
  "kernelspec": {
   "name": "python37764bit01a1b0f807d94d33ba51b7c0bd27c49d",
   "display_name": "Python 3.7.7 64-bit"
  }
 },
 "nbformat": 4,
 "nbformat_minor": 2
}