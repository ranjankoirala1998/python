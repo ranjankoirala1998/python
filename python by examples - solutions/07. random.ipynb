{
 "cells": [
  {
   "cell_type": "markdown",
   "metadata": {},
   "source": [
    "<h3>Challenge 052</h3>\n",
    "<p>Display a random integer between 1 and 100 inclusive.</p>"
   ]
  },
  {
   "cell_type": "code",
   "execution_count": null,
   "metadata": {},
   "outputs": [],
   "source": [
    "import random\n",
    "\n",
    "random_int = random.randint(1, 100)\n",
    "\n",
    "print(\"A random integer between 1 and 100 (inclusive) is {}.\".format(random_int))"
   ]
  },
  {
   "cell_type": "markdown",
   "metadata": {},
   "source": [
    "<h3>Challenge 053</h3>\n",
    "<p>Display a random fruit from a list of five fruits.</p>"
   ]
  },
  {
   "cell_type": "code",
   "execution_count": null,
   "metadata": {},
   "outputs": [],
   "source": [
    "import random\n",
    "\n",
    "fruits = [\"apple\", \"banana\", \"mango\", \"orange\", \"strawberry\"]\n",
    "\n",
    "random_fruit = random.choice(fruits)\n",
    "\n",
    "print(\"Fruits List : {}\".format(fruits))\n",
    "print(\"The randomly selected fruit from the list is {}.\".format(random_fruit))"
   ]
  },
  {
   "cell_type": "markdown",
   "metadata": {},
   "source": [
    "<h3>Challenge 054</h3>\n",
    "<p>Randomly choose either heads or tails (“h” or “t”). Ask the user to make their choice. If their choice is the same as the randomly selected value, display the message “You win”, otherwise display “Bad luck”. At the end, tell the user if the computer selected heads or tails.</p>"
   ]
  },
  {
   "cell_type": "code",
   "execution_count": null,
   "metadata": {},
   "outputs": [],
   "source": [
    "import random\n",
    "\n",
    "sample_space = [\"Head\", \"Tail\"]\n",
    "h_t = random.choice(sample_space)\n",
    "\n",
    "choice = input(\"Head or Tail? h/t : \")\n",
    "\n",
    "if choice == h_t[0].lower() :\n",
    "    print(\"You Win!\")\n",
    "\n",
    "else :\n",
    "    print(\"Bad Luck!\")\n",
    "\n",
    "print(\"Computer selected {}.\".format(h_t))"
   ]
  },
  {
   "cell_type": "markdown",
   "metadata": {},
   "source": [
    "<h3>Challenge 055</h3>\n",
    "<p>Randomly choose a number between 1 and 5. Ask the user to pick a number. If they guess correctly, display the message “Well done”, otherwise tell them if they are too high or too low and ask them to pick a second number. If they guess correctly on their second guess, display “Correct”, otherwise display “You lose”.</p>"
   ]
  },
  {
   "cell_type": "code",
   "execution_count": null,
   "metadata": {},
   "outputs": [],
   "source": [
    "import random\n",
    "\n",
    "random_number = random.randint(1, 5)\n",
    "\n",
    "choice = int(input(\"Pick a number between 1 and 5 (inlcusive) : \"))\n",
    "\n",
    "if random_number == choice :\n",
    "    print(\"Well Done!\")\n",
    "\n",
    "else : \n",
    "    if choice > random_number :\n",
    "        print(\"Too High\")\n",
    "\n",
    "    else :\n",
    "        print(\"Too Low\")\n",
    "    \n",
    "    choice = int(input(\"Try Again? : \"))\n",
    "\n",
    "    if random_number == choice :\n",
    "        print(\"Correct!\")\n",
    "    \n",
    "    else : \n",
    "        print(\"You Lose!\")  "
   ]
  },
  {
   "cell_type": "markdown",
   "metadata": {},
   "source": [
    "<h3>Challenge 056</h3>\n",
    "<p>Randomly pick a whole number between 1 and 10. Ask the user to enter a number and keep entering numbers until they enter the number that was randomly picked.</p>"
   ]
  },
  {
   "cell_type": "code",
   "execution_count": null,
   "metadata": {},
   "outputs": [],
   "source": [
    "import random\n",
    "\n",
    "random_number = random.randint(1, 10)\n",
    "choice = int(input(\"Enter a number between 1 and 10 (inlcusive) : \")) \n",
    "\n",
    "count = 0\n",
    "flag = True\n",
    "\n",
    "while flag :\n",
    "    if choice == random_number :\n",
    "        count += 1\n",
    "        flag = False\n",
    "    \n",
    "    else :      \n",
    "        choice = int(input(\"Try Again? : \")) \n",
    "        count += 1\n",
    "\n",
    "print(\"Well Done. You took {} guess(es).\".format(count))"
   ]
  },
  {
   "cell_type": "markdown",
   "metadata": {},
   "source": [
    "<h3>Challenge 057</h3>\n",
    "<p>Update program 056 so that it tells the user if they are too high or too low before they pick again.</p>"
   ]
  },
  {
   "cell_type": "code",
   "execution_count": null,
   "metadata": {},
   "outputs": [],
   "source": [
    "import random\n",
    "\n",
    "random_number = random.randint(1, 10)\n",
    "choice = int(input(\"Enter a number between 1 and 10 (inlcusive) : \")) \n",
    "\n",
    "count = 0\n",
    "flag = True\n",
    "\n",
    "while flag :\n",
    "    if choice == random_number :\n",
    "        count += 1\n",
    "        flag = False\n",
    "    \n",
    "    else :\n",
    "        if choice > random_number :\n",
    "            print(\"Too High\")\n",
    "\n",
    "        else :\n",
    "            print(\"Too Low\")\n",
    "\n",
    "        choice = int(input(\"Try Again? : \")) \n",
    "        count += 1\n",
    "\n",
    "print(\"Well Done. You took {} guess(es).\".format(count))"
   ]
  },
  {
   "cell_type": "markdown",
   "metadata": {},
   "source": [
    "<h3>Challenge 058</h3>\n",
    "<p>Make a maths quiz that asks five questions by randomly generating two whole numbers to make the question (e.g. [num1] + [num2]). Ask the user to enter the answer. If they get it right add a point to their score. At the end of the quiz, tell them how many they got correct out of five.</p>"
   ]
  },
  {
   "cell_type": "code",
   "execution_count": null,
   "metadata": {},
   "outputs": [],
   "source": [
    "import random\n",
    "\n",
    "operators = ['+', '-']\n",
    "\n",
    "score = 0\n",
    "\n",
    "for i in range(5) :\n",
    "    num1 = random.randint(1, 50)\n",
    "    num2 = random.randint(1, 50)\n",
    "    operator = random.choice(operators)\n",
    "\n",
    "    answer = int(input(\"{} {} {} = \".format(num1, operator, num2)))\n",
    "\n",
    "    if operator == '+' :\n",
    "        if answer == (num1 + num2) :\n",
    "            score += 1\n",
    "    \n",
    "    else :\n",
    "        if answer == (num1 - num2) :\n",
    "            score += 1\n",
    "\n",
    "print(\"Out of 5, you answered {} correctly.\".format(score))"
   ]
  },
  {
   "cell_type": "markdown",
   "metadata": {},
   "source": [
    "<h3>Challenge 059</h3>\n",
    "<p>Display five colours and ask the user to pick one. If they pick the same as the program has chosen, say “Well done”, otherwise display a witty answer which involves the correct colour, e.g. “I bet you are GREEN with envy” or “You are probably feeling BLUE right now”. Ask them to guess again; if they have still not got it right, keep giving them the same clue and ask the user to enter a colour until they guess it correctly.</p>"
   ]
  },
  {
   "cell_type": "code",
   "execution_count": null,
   "metadata": {},
   "outputs": [],
   "source": [
    "import random\n",
    "\n",
    "colors = [\"black\", \"blue\", \"green\", \"red\", \"white\"]\n",
    "print(\"Color List : {}\".format(colors))\n",
    "\n",
    "random_color = random.choice(colors)\n",
    "choice = input(\"Pick a color (from the list) : \")\n",
    "\n",
    "while choice.lower() != random_color :\n",
    "    if random_color == \"black\" :\n",
    "        print(\"Its pitch BLACK in here. I can't find your guess.\")\n",
    "    \n",
    "    elif random_color == \"blue\" :\n",
    "        print(\"You are probably feeling BLUE right now.\")\n",
    "    \n",
    "    elif random_color == \"green\" :\n",
    "        print(\"I bet you are GREEN with envy.\")\n",
    "    \n",
    "    elif random_color == \"red\" :\n",
    "        print(\"RED HOT CHILLY PEPPERS\")\n",
    "    \n",
    "    elif random_color == \"white\" :\n",
    "        print(\"Your guess is not bright as WHITE.\")\n",
    "    \n",
    "    else : \n",
    "        print(\"Invalid Choice!\")\n",
    "\n",
    "    choice = input(\"Try Again? : \")\n",
    "\n",
    "print(\"Well Done!\")"
   ]
  }
 ],
 "metadata": {
  "language_info": {
   "codemirror_mode": {
    "name": "ipython",
    "version": 3
   },
   "file_extension": ".py",
   "mimetype": "text/x-python",
   "name": "python",
   "nbconvert_exporter": "python",
   "pygments_lexer": "ipython3",
   "version": "3.7.7-final"
  },
  "orig_nbformat": 2,
  "kernelspec": {
   "name": "python37764bit01a1b0f807d94d33ba51b7c0bd27c49d",
   "display_name": "Python 3.7.7 64-bit"
  }
 },
 "nbformat": 4,
 "nbformat_minor": 2
}