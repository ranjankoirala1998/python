{
 "cells": [
  {
   "cell_type": "markdown",
   "metadata": {},
   "source": [
    "<h3>Challenge 020</h3>\n",
    "<p>Ask the user to enter their first name and then display the length of their name.</p>"
   ]
  },
  {
   "cell_type": "code",
   "execution_count": null,
   "metadata": {},
   "outputs": [],
   "source": [
    "firstname = input(\"Enter your first name : \")\n",
    "\n",
    "length = len(firstname)\n",
    "\n",
    "print(\"Your firstname has {} letters. Thus, it has length {}.\".format(length, length) )"
   ]
  },
  {
   "cell_type": "markdown",
   "metadata": {},
   "source": [
    "<h3>Challenge 021</h3>\n",
    "<p>Ask the user to enter their first name and then ask them to enter their surname. Join them together with a space between and display the name and the length of whole name.</p>"
   ]
  },
  {
   "cell_type": "code",
   "execution_count": null,
   "metadata": {},
   "outputs": [],
   "source": [
    "firstname = input(\"Enter your first name : \")\n",
    "lastname = input(\"Enter your surname : \")\n",
    "\n",
    "fullname = firstname + ' ' + lastname\n",
    "length = len(fullname) # this length includes that extra spacing between your first name  and your last name\n",
    "\n",
    "print(\"Hi {}, your full name has {} letters.\".format(fullname, length-1) ) # note : that extra space is excluded here"
   ]
  },
  {
   "cell_type": "markdown",
   "metadata": {},
   "source": [
    "<h3>Challenge 022</h3>\n",
    "<p>Ask the user to enter their first name and surname in lower case. Change the case to title case and join them together. Display the finished result. </p>"
   ]
  },
  {
   "cell_type": "code",
   "execution_count": null,
   "metadata": {},
   "outputs": [],
   "source": [
    "firstname = input(\"Enter your first name (in lowercase) : \")\n",
    "lastname = input(\"Enter your surname (in lowercase) : \")\n",
    "\n",
    "fullname = firstname.title() + lastname.title()\n",
    "\n",
    "print(fullname)"
   ]
  },
  {
   "cell_type": "markdown",
   "metadata": {},
   "source": [
    "<h3>Challenge 023</h3>\n",
    "<p>Ask the user to type in the first line of a nursery rhyme and display the length of the string. Ask for a starting number and an ending number and then display just that section of the text (remember Python starts counting from 0 and not 1).</p>"
   ]
  },
  {
   "cell_type": "code",
   "execution_count": null,
   "metadata": {},
   "outputs": [],
   "source": [
    "rhyme = input(\"Enter the first line of a nursery rhyme : \")\n",
    "start = int(input(\"Enter a starting number : \"))\n",
    "end = int(input(\"Enter an ending number : \"))\n",
    "\n",
    "print(\"The section of the text is : {}\".format(rhyme[start-1 : end]))"
   ]
  },
  {
   "cell_type": "markdown",
   "metadata": {},
   "source": [
    "<h3>Challenge 024</h3>\n",
    "<p>Ask the user to type in any word and display it in upper case.</p>"
   ]
  },
  {
   "cell_type": "code",
   "execution_count": null,
   "metadata": {},
   "outputs": [],
   "source": [
    "word = input(\"Enter a word : \")\n",
    "\n",
    "word_upper = word.upper()\n",
    "\n",
    "print(word_upper)"
   ]
  },
  {
   "cell_type": "markdown",
   "metadata": {},
   "source": [
    "<h3>Challenge 025</h3>\n",
    "<p>Ask the user to enter their first name. If the length of their first name is under five characters, ask them to enter their surname and join them together (without a space) and display the name in upper case. If the length of the first name is five or more characters, display their first name in lower case.</p>"
   ]
  },
  {
   "cell_type": "code",
   "execution_count": null,
   "metadata": {},
   "outputs": [],
   "source": [
    "firstname = input(\"Enter your first name : \")\n",
    "\n",
    "if len(firstname) < 5 :\n",
    "    lastname = input(\"Enter your surname : \")\n",
    "    fullname = firstname + lastname\n",
    "    \n",
    "    print(fullname.upper())\n",
    "\n",
    "else : \n",
    "    print(firstname.lower())"
   ]
  },
  {
   "cell_type": "markdown",
   "metadata": {},
   "source": [
    "<h3>Challenge 026</h3>\n",
    "<p>Pig Latin takes the first consonant of a word, moves it to the end of the word and adds on an “ay”. If a word begins with a vowel you just add “way” to the end. For example, pig becomes igpay, banana becomes ananabay, and aadvark becomes aadvarkway. Create a program that will ask the user to enter a word and change it into Pig Latin. Make sure the new word is displayed in lower case.</p>"
   ]
  },
  {
   "cell_type": "code",
   "execution_count": null,
   "metadata": {},
   "outputs": [],
   "source": [
    "word = input(\"Enter a word : \")\n",
    "\n",
    "if word[0] in 'aeiou' : \n",
    "    pig_latin = word + 'way'\n",
    "\n",
    "else : \n",
    "    pig_latin = word[1:] + word[0] + \"ay\"\n",
    "\n",
    "print(\"Pig Latin for {} is {}.\".format(word.lower(), pig_latin.lower()))"
   ]
  },
  {
   "cell_type": "code",
   "execution_count": null,
   "metadata": {},
   "outputs": [],
   "source": []
  }
 ],
 "metadata": {
  "language_info": {
   "codemirror_mode": {
    "name": "ipython",
    "version": 3
   },
   "file_extension": ".py",
   "mimetype": "text/x-python",
   "name": "python",
   "nbconvert_exporter": "python",
   "pygments_lexer": "ipython3",
   "version": "3.7.7-final"
  },
  "orig_nbformat": 2,
  "kernelspec": {
   "name": "python37764bit01a1b0f807d94d33ba51b7c0bd27c49d",
   "display_name": "Python 3.7.7 64-bit"
  }
 },
 "nbformat": 4,
 "nbformat_minor": 2
}